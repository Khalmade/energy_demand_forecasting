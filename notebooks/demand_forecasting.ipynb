{
 "cells": [
  {
   "cell_type": "code",
   "execution_count": 1,
   "id": "918eec21",
   "metadata": {},
   "outputs": [
    {
     "name": "stdout",
     "output_type": "stream",
     "text": [
      "Hello\n"
     ]
    }
   ],
   "source": [
    "print (\"Hello\")"
   ]
  },
  {
   "cell_type": "code",
   "execution_count": 2,
   "id": "1afebcb0",
   "metadata": {},
   "outputs": [
    {
     "data": {
      "text/html": [
       "<div>\n",
       "<style scoped>\n",
       "    .dataframe tbody tr th:only-of-type {\n",
       "        vertical-align: middle;\n",
       "    }\n",
       "\n",
       "    .dataframe tbody tr th {\n",
       "        vertical-align: top;\n",
       "    }\n",
       "\n",
       "    .dataframe thead th {\n",
       "        text-align: right;\n",
       "    }\n",
       "</style>\n",
       "<table border=\"1\" class=\"dataframe\">\n",
       "  <thead>\n",
       "    <tr style=\"text-align: right;\">\n",
       "      <th></th>\n",
       "      <th>Demand Timeseries</th>\n",
       "      <th>Unnamed: 1</th>\n",
       "      <th>Unnamed: 2</th>\n",
       "      <th>Unnamed: 3</th>\n",
       "      <th>Unnamed: 4</th>\n",
       "    </tr>\n",
       "  </thead>\n",
       "  <tbody>\n",
       "    <tr>\n",
       "      <th>0</th>\n",
       "      <td>NaN</td>\n",
       "      <td>NaN</td>\n",
       "      <td>NaN</td>\n",
       "      <td>NaN</td>\n",
       "      <td>NaN</td>\n",
       "    </tr>\n",
       "    <tr>\n",
       "      <th>1</th>\n",
       "      <td>NaN</td>\n",
       "      <td>NaN</td>\n",
       "      <td>NaN</td>\n",
       "      <td>NaN</td>\n",
       "      <td>NaN</td>\n",
       "    </tr>\n",
       "    <tr>\n",
       "      <th>2</th>\n",
       "      <td>date time</td>\n",
       "      <td>Year</td>\n",
       "      <td>Quarter</td>\n",
       "      <td>National Unsuppressed Demand</td>\n",
       "      <td>National Suppressed Demand</td>\n",
       "    </tr>\n",
       "    <tr>\n",
       "      <th>3</th>\n",
       "      <td>2016-01-01 00:00:00</td>\n",
       "      <td>2016</td>\n",
       "      <td>Q1</td>\n",
       "      <td>4670.268405</td>\n",
       "      <td>2527.804878</td>\n",
       "    </tr>\n",
       "    <tr>\n",
       "      <th>4</th>\n",
       "      <td>2016-01-01 01:00:00</td>\n",
       "      <td>2016</td>\n",
       "      <td>Q1</td>\n",
       "      <td>4665.287441</td>\n",
       "      <td>2789.02439</td>\n",
       "    </tr>\n",
       "  </tbody>\n",
       "</table>\n",
       "</div>"
      ],
      "text/plain": [
       "     Demand Timeseries Unnamed: 1 Unnamed: 2                    Unnamed: 3  \\\n",
       "0                  NaN        NaN        NaN                           NaN   \n",
       "1                  NaN        NaN        NaN                           NaN   \n",
       "2            date time       Year    Quarter  National Unsuppressed Demand   \n",
       "3  2016-01-01 00:00:00       2016         Q1                   4670.268405   \n",
       "4  2016-01-01 01:00:00       2016         Q1                   4665.287441   \n",
       "\n",
       "                   Unnamed: 4  \n",
       "0                         NaN  \n",
       "1                         NaN  \n",
       "2  National Suppressed Demand  \n",
       "3                 2527.804878  \n",
       "4                  2789.02439  "
      ]
     },
     "execution_count": 2,
     "metadata": {},
     "output_type": "execute_result"
    }
   ],
   "source": [
    "import pandas as pd\n",
    "file_path = \"../data/Nigeria National Demand Timeseries.xlsx\"\n",
    "df = pd.read_excel(file_path)\n",
    "df.head()"
   ]
  },
  {
   "cell_type": "code",
   "execution_count": 3,
   "id": "35a546dd",
   "metadata": {},
   "outputs": [
    {
     "data": {
      "text/html": [
       "<div>\n",
       "<style scoped>\n",
       "    .dataframe tbody tr th:only-of-type {\n",
       "        vertical-align: middle;\n",
       "    }\n",
       "\n",
       "    .dataframe tbody tr th {\n",
       "        vertical-align: top;\n",
       "    }\n",
       "\n",
       "    .dataframe thead th {\n",
       "        text-align: right;\n",
       "    }\n",
       "</style>\n",
       "<table border=\"1\" class=\"dataframe\">\n",
       "  <thead>\n",
       "    <tr style=\"text-align: right;\">\n",
       "      <th></th>\n",
       "      <th>Demand Timeseries</th>\n",
       "      <th>Unnamed: 1</th>\n",
       "      <th>Unnamed: 2</th>\n",
       "      <th>Unnamed: 3</th>\n",
       "      <th>Unnamed: 4</th>\n",
       "    </tr>\n",
       "  </thead>\n",
       "  <tbody>\n",
       "    <tr>\n",
       "      <th>count</th>\n",
       "      <td>8785</td>\n",
       "      <td>8785</td>\n",
       "      <td>8785</td>\n",
       "      <td>8785.000000</td>\n",
       "      <td>8785.000000</td>\n",
       "    </tr>\n",
       "    <tr>\n",
       "      <th>unique</th>\n",
       "      <td>8785</td>\n",
       "      <td>2</td>\n",
       "      <td>5</td>\n",
       "      <td>8784.000000</td>\n",
       "      <td>8499.000000</td>\n",
       "    </tr>\n",
       "    <tr>\n",
       "      <th>top</th>\n",
       "      <td>date time</td>\n",
       "      <td>2016</td>\n",
       "      <td>Q4</td>\n",
       "      <td>3973.210413</td>\n",
       "      <td>2426.226935</td>\n",
       "    </tr>\n",
       "    <tr>\n",
       "      <th>freq</th>\n",
       "      <td>1</td>\n",
       "      <td>8784</td>\n",
       "      <td>2208</td>\n",
       "      <td>2.000000</td>\n",
       "      <td>58.000000</td>\n",
       "    </tr>\n",
       "  </tbody>\n",
       "</table>\n",
       "</div>"
      ],
      "text/plain": [
       "       Demand Timeseries  Unnamed: 1 Unnamed: 2   Unnamed: 3   Unnamed: 4\n",
       "count               8785        8785       8785  8785.000000  8785.000000\n",
       "unique              8785           2          5  8784.000000  8499.000000\n",
       "top            date time        2016         Q4  3973.210413  2426.226935\n",
       "freq                   1        8784       2208     2.000000    58.000000"
      ]
     },
     "execution_count": 3,
     "metadata": {},
     "output_type": "execute_result"
    }
   ],
   "source": [
    "df.describe()"
   ]
  },
  {
   "cell_type": "code",
   "execution_count": 4,
   "id": "d08ce4dd",
   "metadata": {},
   "outputs": [
    {
     "data": {
      "text/plain": [
       "Demand Timeseries    2\n",
       "Unnamed: 1           2\n",
       "Unnamed: 2           2\n",
       "Unnamed: 3           2\n",
       "Unnamed: 4           2\n",
       "dtype: int64"
      ]
     },
     "execution_count": 4,
     "metadata": {},
     "output_type": "execute_result"
    }
   ],
   "source": [
    "df.isnull().sum()"
   ]
  },
  {
   "cell_type": "code",
   "execution_count": 5,
   "id": "27c6bc82",
   "metadata": {},
   "outputs": [
    {
     "data": {
      "text/html": [
       "<div>\n",
       "<style scoped>\n",
       "    .dataframe tbody tr th:only-of-type {\n",
       "        vertical-align: middle;\n",
       "    }\n",
       "\n",
       "    .dataframe tbody tr th {\n",
       "        vertical-align: top;\n",
       "    }\n",
       "\n",
       "    .dataframe thead th {\n",
       "        text-align: right;\n",
       "    }\n",
       "</style>\n",
       "<table border=\"1\" class=\"dataframe\">\n",
       "  <thead>\n",
       "    <tr style=\"text-align: right;\">\n",
       "      <th></th>\n",
       "      <th>Unnamed: 0</th>\n",
       "      <th>Unnamed: 1</th>\n",
       "      <th>Unnamed: 2</th>\n",
       "      <th>Unnamed: 3</th>\n",
       "      <th>Unnamed: 4</th>\n",
       "    </tr>\n",
       "  </thead>\n",
       "  <tbody>\n",
       "    <tr>\n",
       "      <th>0</th>\n",
       "      <td>date time</td>\n",
       "      <td>Year</td>\n",
       "      <td>Quarter</td>\n",
       "      <td>National Unsuppressed Demand</td>\n",
       "      <td>National Suppressed Demand</td>\n",
       "    </tr>\n",
       "    <tr>\n",
       "      <th>1</th>\n",
       "      <td>2016-01-01 00:00:00</td>\n",
       "      <td>2016</td>\n",
       "      <td>Q1</td>\n",
       "      <td>4670.268405</td>\n",
       "      <td>2527.804878</td>\n",
       "    </tr>\n",
       "    <tr>\n",
       "      <th>2</th>\n",
       "      <td>2016-01-01 01:00:00</td>\n",
       "      <td>2016</td>\n",
       "      <td>Q1</td>\n",
       "      <td>4665.287441</td>\n",
       "      <td>2789.02439</td>\n",
       "    </tr>\n",
       "    <tr>\n",
       "      <th>3</th>\n",
       "      <td>2016-01-01 02:00:00</td>\n",
       "      <td>2016</td>\n",
       "      <td>Q1</td>\n",
       "      <td>4682.517299</td>\n",
       "      <td>2815.121951</td>\n",
       "    </tr>\n",
       "    <tr>\n",
       "      <th>4</th>\n",
       "      <td>2016-01-01 03:00:00</td>\n",
       "      <td>2016</td>\n",
       "      <td>Q1</td>\n",
       "      <td>4703.79199</td>\n",
       "      <td>2785.121951</td>\n",
       "    </tr>\n",
       "  </tbody>\n",
       "</table>\n",
       "</div>"
      ],
      "text/plain": [
       "            Unnamed: 0 Unnamed: 1 Unnamed: 2                    Unnamed: 3  \\\n",
       "0            date time       Year    Quarter  National Unsuppressed Demand   \n",
       "1  2016-01-01 00:00:00       2016         Q1                   4670.268405   \n",
       "2  2016-01-01 01:00:00       2016         Q1                   4665.287441   \n",
       "3  2016-01-01 02:00:00       2016         Q1                   4682.517299   \n",
       "4  2016-01-01 03:00:00       2016         Q1                    4703.79199   \n",
       "\n",
       "                   Unnamed: 4  \n",
       "0  National Suppressed Demand  \n",
       "1                 2527.804878  \n",
       "2                  2789.02439  \n",
       "3                 2815.121951  \n",
       "4                 2785.121951  "
      ]
     },
     "execution_count": 5,
     "metadata": {},
     "output_type": "execute_result"
    }
   ],
   "source": [
    "df = pd.read_excel(file_path, header = 2)\n",
    "df.head()"
   ]
  },
  {
   "cell_type": "code",
   "execution_count": 6,
   "id": "44e1b8fd",
   "metadata": {},
   "outputs": [
    {
     "data": {
      "text/html": [
       "<div>\n",
       "<style scoped>\n",
       "    .dataframe tbody tr th:only-of-type {\n",
       "        vertical-align: middle;\n",
       "    }\n",
       "\n",
       "    .dataframe tbody tr th {\n",
       "        vertical-align: top;\n",
       "    }\n",
       "\n",
       "    .dataframe thead th {\n",
       "        text-align: right;\n",
       "    }\n",
       "</style>\n",
       "<table border=\"1\" class=\"dataframe\">\n",
       "  <thead>\n",
       "    <tr style=\"text-align: right;\">\n",
       "      <th></th>\n",
       "      <th>Unnamed: 0</th>\n",
       "      <th>Unnamed: 1</th>\n",
       "      <th>Unnamed: 2</th>\n",
       "      <th>Unnamed: 3</th>\n",
       "      <th>Unnamed: 4</th>\n",
       "    </tr>\n",
       "  </thead>\n",
       "  <tbody>\n",
       "    <tr>\n",
       "      <th>1</th>\n",
       "      <td>2016-01-01 00:00:00</td>\n",
       "      <td>2016</td>\n",
       "      <td>Q1</td>\n",
       "      <td>4670.268405</td>\n",
       "      <td>2527.804878</td>\n",
       "    </tr>\n",
       "    <tr>\n",
       "      <th>2</th>\n",
       "      <td>2016-01-01 01:00:00</td>\n",
       "      <td>2016</td>\n",
       "      <td>Q1</td>\n",
       "      <td>4665.287441</td>\n",
       "      <td>2789.02439</td>\n",
       "    </tr>\n",
       "    <tr>\n",
       "      <th>3</th>\n",
       "      <td>2016-01-01 02:00:00</td>\n",
       "      <td>2016</td>\n",
       "      <td>Q1</td>\n",
       "      <td>4682.517299</td>\n",
       "      <td>2815.121951</td>\n",
       "    </tr>\n",
       "    <tr>\n",
       "      <th>4</th>\n",
       "      <td>2016-01-01 03:00:00</td>\n",
       "      <td>2016</td>\n",
       "      <td>Q1</td>\n",
       "      <td>4703.79199</td>\n",
       "      <td>2785.121951</td>\n",
       "    </tr>\n",
       "    <tr>\n",
       "      <th>5</th>\n",
       "      <td>2016-01-01 04:00:00</td>\n",
       "      <td>2016</td>\n",
       "      <td>Q1</td>\n",
       "      <td>4857.064195</td>\n",
       "      <td>2794.878049</td>\n",
       "    </tr>\n",
       "    <tr>\n",
       "      <th>...</th>\n",
       "      <td>...</td>\n",
       "      <td>...</td>\n",
       "      <td>...</td>\n",
       "      <td>...</td>\n",
       "      <td>...</td>\n",
       "    </tr>\n",
       "    <tr>\n",
       "      <th>8780</th>\n",
       "      <td>2016-12-31 18:59:59.998000</td>\n",
       "      <td>2016</td>\n",
       "      <td>Q4</td>\n",
       "      <td>6099.345965</td>\n",
       "      <td>3178.630986</td>\n",
       "    </tr>\n",
       "    <tr>\n",
       "      <th>8781</th>\n",
       "      <td>2016-12-31 19:59:59.998000</td>\n",
       "      <td>2016</td>\n",
       "      <td>Q4</td>\n",
       "      <td>6173.292224</td>\n",
       "      <td>3020.387622</td>\n",
       "    </tr>\n",
       "    <tr>\n",
       "      <th>8782</th>\n",
       "      <td>2016-12-31 20:59:59.998000</td>\n",
       "      <td>2016</td>\n",
       "      <td>Q4</td>\n",
       "      <td>5859.663577</td>\n",
       "      <td>2930.626564</td>\n",
       "    </tr>\n",
       "    <tr>\n",
       "      <th>8783</th>\n",
       "      <td>2016-12-31 21:59:59.998000</td>\n",
       "      <td>2016</td>\n",
       "      <td>Q4</td>\n",
       "      <td>5507.905382</td>\n",
       "      <td>2939.975938</td>\n",
       "    </tr>\n",
       "    <tr>\n",
       "      <th>8784</th>\n",
       "      <td>2016-12-31 22:59:59.998000</td>\n",
       "      <td>2016</td>\n",
       "      <td>Q4</td>\n",
       "      <td>5155.935255</td>\n",
       "      <td>2925.990258</td>\n",
       "    </tr>\n",
       "  </tbody>\n",
       "</table>\n",
       "<p>8784 rows × 5 columns</p>\n",
       "</div>"
      ],
      "text/plain": [
       "                      Unnamed: 0 Unnamed: 1 Unnamed: 2   Unnamed: 3  \\\n",
       "1            2016-01-01 00:00:00       2016         Q1  4670.268405   \n",
       "2            2016-01-01 01:00:00       2016         Q1  4665.287441   \n",
       "3            2016-01-01 02:00:00       2016         Q1  4682.517299   \n",
       "4            2016-01-01 03:00:00       2016         Q1   4703.79199   \n",
       "5            2016-01-01 04:00:00       2016         Q1  4857.064195   \n",
       "...                          ...        ...        ...          ...   \n",
       "8780  2016-12-31 18:59:59.998000       2016         Q4  6099.345965   \n",
       "8781  2016-12-31 19:59:59.998000       2016         Q4  6173.292224   \n",
       "8782  2016-12-31 20:59:59.998000       2016         Q4  5859.663577   \n",
       "8783  2016-12-31 21:59:59.998000       2016         Q4  5507.905382   \n",
       "8784  2016-12-31 22:59:59.998000       2016         Q4  5155.935255   \n",
       "\n",
       "       Unnamed: 4  \n",
       "1     2527.804878  \n",
       "2      2789.02439  \n",
       "3     2815.121951  \n",
       "4     2785.121951  \n",
       "5     2794.878049  \n",
       "...           ...  \n",
       "8780  3178.630986  \n",
       "8781  3020.387622  \n",
       "8782  2930.626564  \n",
       "8783  2939.975938  \n",
       "8784  2925.990258  \n",
       "\n",
       "[8784 rows x 5 columns]"
      ]
     },
     "execution_count": 6,
     "metadata": {},
     "output_type": "execute_result"
    }
   ],
   "source": [
    "df.drop(0)"
   ]
  },
  {
   "cell_type": "code",
   "execution_count": 7,
   "id": "6967fbf7",
   "metadata": {},
   "outputs": [],
   "source": [
    "df = df.rename(columns={\n",
    "    'Unnamed: 0': 'Date Time',\n",
    "    'Unnamed: 1': 'Year',\n",
    "    'Unnamed: 2': 'Quarter',\n",
    "    'Unnamed: 3': 'National Unsuppressed Demand',\n",
    "    'Unnamed: 4': 'National Suppressed Demand'\n",
    "})\n"
   ]
  },
  {
   "cell_type": "code",
   "execution_count": 8,
   "id": "3a2165e8",
   "metadata": {},
   "outputs": [
    {
     "data": {
      "text/html": [
       "<div>\n",
       "<style scoped>\n",
       "    .dataframe tbody tr th:only-of-type {\n",
       "        vertical-align: middle;\n",
       "    }\n",
       "\n",
       "    .dataframe tbody tr th {\n",
       "        vertical-align: top;\n",
       "    }\n",
       "\n",
       "    .dataframe thead th {\n",
       "        text-align: right;\n",
       "    }\n",
       "</style>\n",
       "<table border=\"1\" class=\"dataframe\">\n",
       "  <thead>\n",
       "    <tr style=\"text-align: right;\">\n",
       "      <th></th>\n",
       "      <th>Date Time</th>\n",
       "      <th>Year</th>\n",
       "      <th>Quarter</th>\n",
       "      <th>National Unsuppressed Demand</th>\n",
       "      <th>National Suppressed Demand</th>\n",
       "    </tr>\n",
       "  </thead>\n",
       "  <tbody>\n",
       "    <tr>\n",
       "      <th>0</th>\n",
       "      <td>date time</td>\n",
       "      <td>Year</td>\n",
       "      <td>Quarter</td>\n",
       "      <td>National Unsuppressed Demand</td>\n",
       "      <td>National Suppressed Demand</td>\n",
       "    </tr>\n",
       "    <tr>\n",
       "      <th>1</th>\n",
       "      <td>2016-01-01 00:00:00</td>\n",
       "      <td>2016</td>\n",
       "      <td>Q1</td>\n",
       "      <td>4670.268405</td>\n",
       "      <td>2527.804878</td>\n",
       "    </tr>\n",
       "    <tr>\n",
       "      <th>2</th>\n",
       "      <td>2016-01-01 01:00:00</td>\n",
       "      <td>2016</td>\n",
       "      <td>Q1</td>\n",
       "      <td>4665.287441</td>\n",
       "      <td>2789.02439</td>\n",
       "    </tr>\n",
       "    <tr>\n",
       "      <th>3</th>\n",
       "      <td>2016-01-01 02:00:00</td>\n",
       "      <td>2016</td>\n",
       "      <td>Q1</td>\n",
       "      <td>4682.517299</td>\n",
       "      <td>2815.121951</td>\n",
       "    </tr>\n",
       "    <tr>\n",
       "      <th>4</th>\n",
       "      <td>2016-01-01 03:00:00</td>\n",
       "      <td>2016</td>\n",
       "      <td>Q1</td>\n",
       "      <td>4703.79199</td>\n",
       "      <td>2785.121951</td>\n",
       "    </tr>\n",
       "  </tbody>\n",
       "</table>\n",
       "</div>"
      ],
      "text/plain": [
       "             Date Time  Year  Quarter  National Unsuppressed Demand  \\\n",
       "0            date time  Year  Quarter  National Unsuppressed Demand   \n",
       "1  2016-01-01 00:00:00  2016       Q1                   4670.268405   \n",
       "2  2016-01-01 01:00:00  2016       Q1                   4665.287441   \n",
       "3  2016-01-01 02:00:00  2016       Q1                   4682.517299   \n",
       "4  2016-01-01 03:00:00  2016       Q1                    4703.79199   \n",
       "\n",
       "   National Suppressed Demand  \n",
       "0  National Suppressed Demand  \n",
       "1                 2527.804878  \n",
       "2                  2789.02439  \n",
       "3                 2815.121951  \n",
       "4                 2785.121951  "
      ]
     },
     "execution_count": 8,
     "metadata": {},
     "output_type": "execute_result"
    }
   ],
   "source": [
    "df.head()"
   ]
  },
  {
   "cell_type": "code",
   "execution_count": 9,
   "id": "e9963298",
   "metadata": {},
   "outputs": [
    {
     "data": {
      "text/html": [
       "<div>\n",
       "<style scoped>\n",
       "    .dataframe tbody tr th:only-of-type {\n",
       "        vertical-align: middle;\n",
       "    }\n",
       "\n",
       "    .dataframe tbody tr th {\n",
       "        vertical-align: top;\n",
       "    }\n",
       "\n",
       "    .dataframe thead th {\n",
       "        text-align: right;\n",
       "    }\n",
       "</style>\n",
       "<table border=\"1\" class=\"dataframe\">\n",
       "  <thead>\n",
       "    <tr style=\"text-align: right;\">\n",
       "      <th></th>\n",
       "      <th>Date Time</th>\n",
       "      <th>Year</th>\n",
       "      <th>Quarter</th>\n",
       "      <th>National Unsuppressed Demand</th>\n",
       "      <th>National Suppressed Demand</th>\n",
       "    </tr>\n",
       "  </thead>\n",
       "  <tbody>\n",
       "    <tr>\n",
       "      <th>0</th>\n",
       "      <td>2016-01-01 00:00:00</td>\n",
       "      <td>2016</td>\n",
       "      <td>Q1</td>\n",
       "      <td>4670.268405</td>\n",
       "      <td>2527.804878</td>\n",
       "    </tr>\n",
       "    <tr>\n",
       "      <th>1</th>\n",
       "      <td>2016-01-01 01:00:00</td>\n",
       "      <td>2016</td>\n",
       "      <td>Q1</td>\n",
       "      <td>4665.287441</td>\n",
       "      <td>2789.02439</td>\n",
       "    </tr>\n",
       "    <tr>\n",
       "      <th>2</th>\n",
       "      <td>2016-01-01 02:00:00</td>\n",
       "      <td>2016</td>\n",
       "      <td>Q1</td>\n",
       "      <td>4682.517299</td>\n",
       "      <td>2815.121951</td>\n",
       "    </tr>\n",
       "    <tr>\n",
       "      <th>3</th>\n",
       "      <td>2016-01-01 03:00:00</td>\n",
       "      <td>2016</td>\n",
       "      <td>Q1</td>\n",
       "      <td>4703.79199</td>\n",
       "      <td>2785.121951</td>\n",
       "    </tr>\n",
       "    <tr>\n",
       "      <th>4</th>\n",
       "      <td>2016-01-01 04:00:00</td>\n",
       "      <td>2016</td>\n",
       "      <td>Q1</td>\n",
       "      <td>4857.064195</td>\n",
       "      <td>2794.878049</td>\n",
       "    </tr>\n",
       "  </tbody>\n",
       "</table>\n",
       "</div>"
      ],
      "text/plain": [
       "             Date Time  Year Quarter National Unsuppressed Demand  \\\n",
       "0  2016-01-01 00:00:00  2016      Q1                  4670.268405   \n",
       "1  2016-01-01 01:00:00  2016      Q1                  4665.287441   \n",
       "2  2016-01-01 02:00:00  2016      Q1                  4682.517299   \n",
       "3  2016-01-01 03:00:00  2016      Q1                   4703.79199   \n",
       "4  2016-01-01 04:00:00  2016      Q1                  4857.064195   \n",
       "\n",
       "  National Suppressed Demand  \n",
       "0                2527.804878  \n",
       "1                 2789.02439  \n",
       "2                2815.121951  \n",
       "3                2785.121951  \n",
       "4                2794.878049  "
      ]
     },
     "execution_count": 9,
     "metadata": {},
     "output_type": "execute_result"
    }
   ],
   "source": [
    "df = df.drop(0).reset_index(drop=True)\n",
    "df.head()"
   ]
  },
  {
   "cell_type": "code",
   "execution_count": 10,
   "id": "5615a504",
   "metadata": {},
   "outputs": [
    {
     "name": "stdout",
     "output_type": "stream",
     "text": [
      "<class 'pandas.core.frame.DataFrame'>\n",
      "RangeIndex: 8784 entries, 0 to 8783\n",
      "Data columns (total 5 columns):\n",
      " #   Column                        Non-Null Count  Dtype \n",
      "---  ------                        --------------  ----- \n",
      " 0   Date Time                     8784 non-null   object\n",
      " 1   Year                          8784 non-null   object\n",
      " 2   Quarter                       8784 non-null   object\n",
      " 3   National Unsuppressed Demand  8784 non-null   object\n",
      " 4   National Suppressed Demand    8784 non-null   object\n",
      "dtypes: object(5)\n",
      "memory usage: 343.3+ KB\n"
     ]
    }
   ],
   "source": [
    "df.info()"
   ]
  },
  {
   "cell_type": "code",
   "execution_count": 11,
   "id": "4790abd0",
   "metadata": {},
   "outputs": [
    {
     "name": "stdout",
     "output_type": "stream",
     "text": [
      "<class 'pandas.core.frame.DataFrame'>\n",
      "RangeIndex: 8784 entries, 0 to 8783\n",
      "Data columns (total 5 columns):\n",
      " #   Column                        Non-Null Count  Dtype         \n",
      "---  ------                        --------------  -----         \n",
      " 0   Date Time                     8784 non-null   datetime64[ns]\n",
      " 1   Year                          8784 non-null   int64         \n",
      " 2   Quarter                       8784 non-null   object        \n",
      " 3   National Unsuppressed Demand  8784 non-null   float64       \n",
      " 4   National Suppressed Demand    8784 non-null   float64       \n",
      "dtypes: datetime64[ns](1), float64(2), int64(1), object(1)\n",
      "memory usage: 343.3+ KB\n"
     ]
    }
   ],
   "source": [
    "df[\"Date Time\"] = pd.to_datetime(df[\"Date Time\"])\n",
    "df[\"Year\"] = pd.to_numeric(df[\"Year\"])\n",
    "\n",
    "\n",
    "Demand = [\"National Unsuppressed Demand\", \"National Suppressed Demand\"]\n",
    "for col in Demand:\n",
    "    df[col] = pd.to_numeric(df[col], errors='coerce')\n",
    "df.info()"
   ]
  },
  {
   "cell_type": "code",
   "execution_count": 12,
   "id": "2ea32bb5",
   "metadata": {},
   "outputs": [
    {
     "data": {
      "text/plain": [
       "Date Time                       0\n",
       "Year                            0\n",
       "Quarter                         0\n",
       "National Unsuppressed Demand    0\n",
       "National Suppressed Demand      0\n",
       "dtype: int64"
      ]
     },
     "execution_count": 12,
     "metadata": {},
     "output_type": "execute_result"
    }
   ],
   "source": [
    "df.isnull().sum()"
   ]
  },
  {
   "cell_type": "code",
   "execution_count": 13,
   "id": "b1210fdf",
   "metadata": {},
   "outputs": [
    {
     "data": {
      "image/png": "[encoded data removed]",
      "text/plain": [
       "<Figure size 1200x600 with 1 Axes>"
      ]
     },
     "metadata": {},
     "output_type": "display_data"
    }
   ],
   "source": [
    "import matplotlib.pyplot as plt\n",
    "plt.figure(figsize=(12, 6))\n",
    "plt.plot(df[\"Date Time\"], df[\"National Unsuppressed Demand\"], label=\"National Unsuppressed Demand\")\n",
    "plt.plot(df[\"Date Time\"], df[\"National Suppressed Demand\"], label=\"National Suppressed Demand\")\n",
    "plt.title(\"National Energy Demand\")\n",
    "plt.xlabel(\"Date\")\n",
    "plt.ylabel(\"Demand (MW)\")\n",
    "plt.legend()\n",
    "plt.show()"
   ]
  },
  {
   "cell_type": "code",
   "execution_count": 14,
   "id": "0e89bf3c",
   "metadata": {},
   "outputs": [
    {
     "data": {
      "image/png": "[encoded data removed]",
      "text/plain": [
       "<Figure size 640x480 with 1 Axes>"
      ]
     },
     "metadata": {},
     "output_type": "display_data"
    }
   ],
   "source": [
    "df['Hour'] = df['Date Time'].dt.hour\n",
    "\n",
    "# Calculate the average demand for each hour\n",
    "hourly_demand = df.groupby('Hour')['National Unsuppressed Demand'].mean()\n",
    "plt.plot(hourly_demand.index, hourly_demand.values)\n",
    "plt.title(\"Average Hourly National Unsuppressed Demand\")\n",
    "\n",
    "plt.xlabel(\"Hour of Day\")\n",
    "plt.ylabel(\"Demand (MW)\")\n",
    "plt.xticks(hourly_demand.index)\n",
    "plt.grid()\n",
    "plt.show()"
   ]
  },
  {
   "cell_type": "code",
   "execution_count": 15,
   "id": "835b0f67",
   "metadata": {},
   "outputs": [
    {
     "data": {
      "image/png": "[encoded data removed]",
      "text/plain": [
       "<Figure size 640x480 with 1 Axes>"
      ]
     },
     "metadata": {},
     "output_type": "display_data"
    }
   ],
   "source": [
    "df['Hour'] = df['Date Time'].dt.hour\n",
    "df[\"Hour\"].head()\n",
    "hourly_demand = df.groupby('Hour')[\"National Unsuppressed Demand\"].mean()\n",
    "suppressed_hourly_demand = df.groupby(\"Hour\")[\"National Suppressed Demand\"].mean()\n",
    "plt.plot(suppressed_hourly_demand.index, suppressed_hourly_demand.values)\n",
    "plt.title(\"Average Hourly National Suppressed Demand\")\n",
    "plt.ylabel(\"Suppressed Demand (MW)\")\n",
    "plt.xlabel(\"Hour of Day\")\n",
    "plt.xticks(suppressed_hourly_demand.index)\n",
    "plt.grid()\n",
    "plt.show()"
   ]
  },
  {
   "cell_type": "code",
   "execution_count": 16,
   "id": "1440240a",
   "metadata": {},
   "outputs": [
    {
     "data": {
      "image/png": "[encoded data removed]",
      "text/plain": [
       "<Figure size 1200x600 with 1 Axes>"
      ]
     },
     "metadata": {},
     "output_type": "display_data"
    }
   ],
   "source": [
    "\n",
    "plt.figure(figsize=(12, 6))\n",
    "plt.plot(hourly_demand.index, hourly_demand.values)\n",
    "plt.plot(suppressed_hourly_demand.index, suppressed_hourly_demand.values)\n",
    "plt.title(\"Average Hourly National Suppressed and Unsuppressed Demand\")\n",
    "plt.xlabel(\"Hour of Day\")\n",
    "plt.ylabel(\"Demand (MW)\")\n",
    "plt.xticks(hourly_demand.index)\n",
    "plt.grid()\n",
    "plt.legend([\"Unsuppressed Demand\", \"Suppressed Demand\"])\n",
    "plt.show()"
   ]
  },
  {
   "cell_type": "code",
   "execution_count": 18,
   "id": "848a0f1f",
   "metadata": {},
   "outputs": [
    {
     "name": "stdout",
     "output_type": "stream",
     "text": [
      "[4 5 6 0 1 2 3]\n"
     ]
    },
    {
     "data": {
      "text/plain": [
       "Day\n",
       "0    5457.388386\n",
       "1    5501.857023\n",
       "2    5564.771679\n",
       "3    5537.660782\n",
       "4    5519.601033\n",
       "5    5453.019635\n",
       "6    5376.312196\n",
       "Name: National Unsuppressed Demand, dtype: float64"
      ]
     },
     "metadata": {},
     "output_type": "display_data"
    }
   ],
   "source": [
    "df['Day'] = df['Date Time'].dt.dayofweek\n",
    "print(df['Day'].unique())\n",
    "unsuppressed_daily_demand = df.groupby('Day')['National Unsuppressed Demand'].mean()\n",
    "display(unsuppressed_daily_demand)"
   ]
  },
  {
   "cell_type": "code",
   "execution_count": 23,
   "id": "6252aa74",
   "metadata": {},
   "outputs": [
    {
     "ename": "ImportError",
     "evalue": "cannot import name 'hourly_demand_summary' from 'src.visualization' (c:\\Users\\Khalifa Omade\\Downloads\\energy_demand_forecasting\\src\\visualization.py)",
     "output_type": "error",
     "traceback": [
      "\u001b[31m---------------------------------------------------------------------------\u001b[39m",
      "\u001b[31mImportError\u001b[39m                               Traceback (most recent call last)",
      "\u001b[36mCell\u001b[39m\u001b[36m \u001b[39m\u001b[32mIn[23]\u001b[39m\u001b[32m, line 4\u001b[39m\n\u001b[32m      1\u001b[39m \u001b[38;5;28;01mimport\u001b[39;00m\u001b[38;5;250m \u001b[39m\u001b[34;01msys\u001b[39;00m,\u001b[38;5;250m \u001b[39m\u001b[34;01mos\u001b[39;00m\n\u001b[32m      2\u001b[39m sys.path.append(os.path.abspath(\u001b[33m\"\u001b[39m\u001b[33m..\u001b[39m\u001b[33m\"\u001b[39m))\n\u001b[32m----> \u001b[39m\u001b[32m4\u001b[39m \u001b[38;5;28;01mfrom\u001b[39;00m\u001b[38;5;250m \u001b[39m\u001b[34;01msrc\u001b[39;00m\u001b[34;01m.\u001b[39;00m\u001b[34;01mvisualization\u001b[39;00m\u001b[38;5;250m \u001b[39m\u001b[38;5;28;01mimport\u001b[39;00m hourly_demand_summary, plot_hourly_demand, daily_demand_summary, plot_daily_demand, plot_monthly_demand, monthly_demand_summary \n\u001b[32m      6\u001b[39m hourly_demand_summary(df)\n\u001b[32m      8\u001b[39m plot_hourly_demand(df)\n",
      "\u001b[31mImportError\u001b[39m: cannot import name 'hourly_demand_summary' from 'src.visualization' (c:\\Users\\Khalifa Omade\\Downloads\\energy_demand_forecasting\\src\\visualization.py)"
     ]
    }
   ],
   "source": [
    "import sys, os\n",
    "sys.path.append(os.path.abspath(\"..\"))\n",
    "\n",
    "from src.visualization import hourly_demand_summary, plot_hourly_demand, daily_demand_summary, plot_daily_demand, plot_monthly_demand, monthly_demand_summary \n",
    "\n",
    "hourly_demand_summary(df)\n",
    "\n",
    "plot_hourly_demand(df)\n",
    "\n",
    "daily_demand_summary(df)\n",
    "\n",
    "plot_daily_demand(df)\n",
    "\n",
    "plot_monthly_demand(df)\n",
    "\n",
    "monthly_demand_summary(df)\n",
    "\n"
   ]
  },
  {
   "cell_type": "code",
   "execution_count": null,
   "id": "edbb860b",
   "metadata": {},
   "outputs": [
    {
     "data": {
      "text/html": [
       "<div>\n",
       "<style scoped>\n",
       "    .dataframe tbody tr th:only-of-type {\n",
       "        vertical-align: middle;\n",
       "    }\n",
       "\n",
       "    .dataframe tbody tr th {\n",
       "        vertical-align: top;\n",
       "    }\n",
       "\n",
       "    .dataframe thead th {\n",
       "        text-align: right;\n",
       "    }\n",
       "</style>\n",
       "<table border=\"1\" class=\"dataframe\">\n",
       "  <thead>\n",
       "    <tr style=\"text-align: right;\">\n",
       "      <th></th>\n",
       "      <th>Date Time</th>\n",
       "      <th>Year</th>\n",
       "      <th>Quarter</th>\n",
       "      <th>National Unsuppressed Demand</th>\n",
       "      <th>National Suppressed Demand</th>\n",
       "      <th>Hour</th>\n",
       "      <th>Day</th>\n",
       "      <th>Month</th>\n",
       "      <th>Lag_hour</th>\n",
       "      <th>Lag_day</th>\n",
       "      <th>Lag_week</th>\n",
       "      <th>Demand_Rolling_mean_24</th>\n",
       "      <th>Demand_Rolling_std_24</th>\n",
       "      <th>Demand_Rolling_median_24</th>\n",
       "    </tr>\n",
       "  </thead>\n",
       "  <tbody>\n",
       "    <tr>\n",
       "      <th>0</th>\n",
       "      <td>2016-01-01 00:00:00</td>\n",
       "      <td>2016</td>\n",
       "      <td>Q1</td>\n",
       "      <td>4670.268405</td>\n",
       "      <td>2527.804878</td>\n",
       "      <td>0</td>\n",
       "      <td>4</td>\n",
       "      <td>1</td>\n",
       "      <td>NaN</td>\n",
       "      <td>NaN</td>\n",
       "      <td>NaN</td>\n",
       "      <td>NaN</td>\n",
       "      <td>NaN</td>\n",
       "      <td>NaN</td>\n",
       "    </tr>\n",
       "    <tr>\n",
       "      <th>1</th>\n",
       "      <td>2016-01-01 01:00:00</td>\n",
       "      <td>2016</td>\n",
       "      <td>Q1</td>\n",
       "      <td>4665.287441</td>\n",
       "      <td>2789.024390</td>\n",
       "      <td>1</td>\n",
       "      <td>4</td>\n",
       "      <td>1</td>\n",
       "      <td>4670.268405</td>\n",
       "      <td>NaN</td>\n",
       "      <td>NaN</td>\n",
       "      <td>NaN</td>\n",
       "      <td>NaN</td>\n",
       "      <td>NaN</td>\n",
       "    </tr>\n",
       "    <tr>\n",
       "      <th>2</th>\n",
       "      <td>2016-01-01 02:00:00</td>\n",
       "      <td>2016</td>\n",
       "      <td>Q1</td>\n",
       "      <td>4682.517299</td>\n",
       "      <td>2815.121951</td>\n",
       "      <td>2</td>\n",
       "      <td>4</td>\n",
       "      <td>1</td>\n",
       "      <td>4665.287441</td>\n",
       "      <td>NaN</td>\n",
       "      <td>NaN</td>\n",
       "      <td>NaN</td>\n",
       "      <td>NaN</td>\n",
       "      <td>NaN</td>\n",
       "    </tr>\n",
       "    <tr>\n",
       "      <th>3</th>\n",
       "      <td>2016-01-01 03:00:00</td>\n",
       "      <td>2016</td>\n",
       "      <td>Q1</td>\n",
       "      <td>4703.791990</td>\n",
       "      <td>2785.121951</td>\n",
       "      <td>3</td>\n",
       "      <td>4</td>\n",
       "      <td>1</td>\n",
       "      <td>4682.517299</td>\n",
       "      <td>NaN</td>\n",
       "      <td>NaN</td>\n",
       "      <td>NaN</td>\n",
       "      <td>NaN</td>\n",
       "      <td>NaN</td>\n",
       "    </tr>\n",
       "    <tr>\n",
       "      <th>4</th>\n",
       "      <td>2016-01-01 04:00:00</td>\n",
       "      <td>2016</td>\n",
       "      <td>Q1</td>\n",
       "      <td>4857.064195</td>\n",
       "      <td>2794.878049</td>\n",
       "      <td>4</td>\n",
       "      <td>4</td>\n",
       "      <td>1</td>\n",
       "      <td>4703.791990</td>\n",
       "      <td>NaN</td>\n",
       "      <td>NaN</td>\n",
       "      <td>NaN</td>\n",
       "      <td>NaN</td>\n",
       "      <td>NaN</td>\n",
       "    </tr>\n",
       "  </tbody>\n",
       "</table>\n",
       "</div>"
      ],
      "text/plain": [
       "            Date Time  Year Quarter  National Unsuppressed Demand  \\\n",
       "0 2016-01-01 00:00:00  2016      Q1                   4670.268405   \n",
       "1 2016-01-01 01:00:00  2016      Q1                   4665.287441   \n",
       "2 2016-01-01 02:00:00  2016      Q1                   4682.517299   \n",
       "3 2016-01-01 03:00:00  2016      Q1                   4703.791990   \n",
       "4 2016-01-01 04:00:00  2016      Q1                   4857.064195   \n",
       "\n",
       "   National Suppressed Demand  Hour  Day  Month     Lag_hour  Lag_day  \\\n",
       "0                 2527.804878     0    4      1          NaN      NaN   \n",
       "1                 2789.024390     1    4      1  4670.268405      NaN   \n",
       "2                 2815.121951     2    4      1  4665.287441      NaN   \n",
       "3                 2785.121951     3    4      1  4682.517299      NaN   \n",
       "4                 2794.878049     4    4      1  4703.791990      NaN   \n",
       "\n",
       "   Lag_week  Demand_Rolling_mean_24  Demand_Rolling_std_24  \\\n",
       "0       NaN                     NaN                    NaN   \n",
       "1       NaN                     NaN                    NaN   \n",
       "2       NaN                     NaN                    NaN   \n",
       "3       NaN                     NaN                    NaN   \n",
       "4       NaN                     NaN                    NaN   \n",
       "\n",
       "   Demand_Rolling_median_24  \n",
       "0                       NaN  \n",
       "1                       NaN  \n",
       "2                       NaN  \n",
       "3                       NaN  \n",
       "4                       NaN  "
      ]
     },
     "metadata": {},
     "output_type": "display_data"
    }
   ],
   "source": [
    "## CREATING FEATURES\n",
    "import sys, os\n",
    "sys.path.append(os.path.abspath(\"..\"))\n",
    "\n",
    "from src.features import create_features\n",
    "df = create_features(df)\n",
    "\n",
    "display(df.head())"
   ]
  },
  {
   "cell_type": "code",
   "execution_count": null,
   "id": "0d8a9f32",
   "metadata": {
    "vscode": {
     "languageId": "ruby"
    }
   },
   "outputs": [
    {
     "data": {
      "text/html": [
       "<div>\n",
       "<style scoped>\n",
       "    .dataframe tbody tr th:only-of-type {\n",
       "        vertical-align: middle;\n",
       "    }\n",
       "\n",
       "    .dataframe tbody tr th {\n",
       "        vertical-align: top;\n",
       "    }\n",
       "\n",
       "    .dataframe thead th {\n",
       "        text-align: right;\n",
       "    }\n",
       "</style>\n",
       "<table border=\"1\" class=\"dataframe\">\n",
       "  <thead>\n",
       "    <tr style=\"text-align: right;\">\n",
       "      <th></th>\n",
       "      <th>Date Time</th>\n",
       "      <th>Year</th>\n",
       "      <th>Quarter</th>\n",
       "      <th>National Unsuppressed Demand</th>\n",
       "      <th>National Suppressed Demand</th>\n",
       "      <th>Hour</th>\n",
       "      <th>Day</th>\n",
       "      <th>Month</th>\n",
       "      <th>Lag_hour</th>\n",
       "      <th>Lag_day</th>\n",
       "      <th>Lag_week</th>\n",
       "      <th>Demand_Rolling_mean_24</th>\n",
       "      <th>Demand_Rolling_std_24</th>\n",
       "      <th>Demand_Rolling_median_24</th>\n",
       "    </tr>\n",
       "  </thead>\n",
       "  <tbody>\n",
       "    <tr>\n",
       "      <th>8779</th>\n",
       "      <td>2016-12-31 18:59:59.998</td>\n",
       "      <td>2016</td>\n",
       "      <td>Q4</td>\n",
       "      <td>6099.345965</td>\n",
       "      <td>3178.630986</td>\n",
       "      <td>18</td>\n",
       "      <td>5</td>\n",
       "      <td>12</td>\n",
       "      <td>6341.704663</td>\n",
       "      <td>6429.454055</td>\n",
       "      <td>6678.166553</td>\n",
       "      <td>5621.434457</td>\n",
       "      <td>536.921612</td>\n",
       "      <td>5762.779933</td>\n",
       "    </tr>\n",
       "    <tr>\n",
       "      <th>8780</th>\n",
       "      <td>2016-12-31 19:59:59.998</td>\n",
       "      <td>2016</td>\n",
       "      <td>Q4</td>\n",
       "      <td>6173.292224</td>\n",
       "      <td>3020.387622</td>\n",
       "      <td>19</td>\n",
       "      <td>5</td>\n",
       "      <td>12</td>\n",
       "      <td>6099.345965</td>\n",
       "      <td>6415.992216</td>\n",
       "      <td>6779.964838</td>\n",
       "      <td>5607.679953</td>\n",
       "      <td>519.260095</td>\n",
       "      <td>5762.779933</td>\n",
       "    </tr>\n",
       "    <tr>\n",
       "      <th>8781</th>\n",
       "      <td>2016-12-31 20:59:59.998</td>\n",
       "      <td>2016</td>\n",
       "      <td>Q4</td>\n",
       "      <td>5859.663577</td>\n",
       "      <td>2930.626564</td>\n",
       "      <td>20</td>\n",
       "      <td>5</td>\n",
       "      <td>12</td>\n",
       "      <td>6173.292224</td>\n",
       "      <td>6190.018433</td>\n",
       "      <td>6454.871597</td>\n",
       "      <td>5597.567454</td>\n",
       "      <td>505.001433</td>\n",
       "      <td>5762.779933</td>\n",
       "    </tr>\n",
       "    <tr>\n",
       "      <th>8782</th>\n",
       "      <td>2016-12-31 21:59:59.998</td>\n",
       "      <td>2016</td>\n",
       "      <td>Q4</td>\n",
       "      <td>5507.905382</td>\n",
       "      <td>2939.975938</td>\n",
       "      <td>21</td>\n",
       "      <td>5</td>\n",
       "      <td>12</td>\n",
       "      <td>5859.663577</td>\n",
       "      <td>5686.804645</td>\n",
       "      <td>6082.624709</td>\n",
       "      <td>5583.802668</td>\n",
       "      <td>492.498388</td>\n",
       "      <td>5762.779933</td>\n",
       "    </tr>\n",
       "    <tr>\n",
       "      <th>8783</th>\n",
       "      <td>2016-12-31 22:59:59.998</td>\n",
       "      <td>2016</td>\n",
       "      <td>Q4</td>\n",
       "      <td>5155.935255</td>\n",
       "      <td>2925.990258</td>\n",
       "      <td>22</td>\n",
       "      <td>5</td>\n",
       "      <td>12</td>\n",
       "      <td>5507.905382</td>\n",
       "      <td>5288.781818</td>\n",
       "      <td>5704.938087</td>\n",
       "      <td>5576.348532</td>\n",
       "      <td>492.225412</td>\n",
       "      <td>5762.779933</td>\n",
       "    </tr>\n",
       "  </tbody>\n",
       "</table>\n",
       "</div>"
      ],
      "text/plain": [
       "                   Date Time  Year Quarter  National Unsuppressed Demand  \\\n",
       "8779 2016-12-31 18:59:59.998  2016      Q4                   6099.345965   \n",
       "8780 2016-12-31 19:59:59.998  2016      Q4                   6173.292224   \n",
       "8781 2016-12-31 20:59:59.998  2016      Q4                   5859.663577   \n",
       "8782 2016-12-31 21:59:59.998  2016      Q4                   5507.905382   \n",
       "8783 2016-12-31 22:59:59.998  2016      Q4                   5155.935255   \n",
       "\n",
       "      National Suppressed Demand  Hour  Day  Month     Lag_hour      Lag_day  \\\n",
       "8779                 3178.630986    18    5     12  6341.704663  6429.454055   \n",
       "8780                 3020.387622    19    5     12  6099.345965  6415.992216   \n",
       "8781                 2930.626564    20    5     12  6173.292224  6190.018433   \n",
       "8782                 2939.975938    21    5     12  5859.663577  5686.804645   \n",
       "8783                 2925.990258    22    5     12  5507.905382  5288.781818   \n",
       "\n",
       "         Lag_week  Demand_Rolling_mean_24  Demand_Rolling_std_24  \\\n",
       "8779  6678.166553             5621.434457             536.921612   \n",
       "8780  6779.964838             5607.679953             519.260095   \n",
       "8781  6454.871597             5597.567454             505.001433   \n",
       "8782  6082.624709             5583.802668             492.498388   \n",
       "8783  5704.938087             5576.348532             492.225412   \n",
       "\n",
       "      Demand_Rolling_median_24  \n",
       "8779               5762.779933  \n",
       "8780               5762.779933  \n",
       "8781               5762.779933  \n",
       "8782               5762.779933  \n",
       "8783               5762.779933  "
      ]
     },
     "metadata": {},
     "output_type": "display_data"
    }
   ],
   "source": [
    "\n",
    "display(df.tail())\n"
   ]
  },
  {
   "cell_type": "code",
   "execution_count": null,
   "id": "2f9b9891",
   "metadata": {
    "vscode": {
     "languageId": "ruby"
    }
   },
   "outputs": [
    {
     "data": {
      "text/plain": [
       "Date Time                         0\n",
       "Year                              0\n",
       "Quarter                           0\n",
       "National Unsuppressed Demand      0\n",
       "National Suppressed Demand        0\n",
       "Hour                              0\n",
       "Day                               0\n",
       "Month                             0\n",
       "Lag_hour                          1\n",
       "Lag_day                          24\n",
       "Lag_week                        168\n",
       "Demand_Rolling_mean_24           24\n",
       "Demand_Rolling_std_24            24\n",
       "Demand_Rolling_median_24         24\n",
       "dtype: int64"
      ]
     },
     "execution_count": 25,
     "metadata": {},
     "output_type": "execute_result"
    }
   ],
   "source": [
    "df.isnull().sum()"
   ]
  },
  {
   "cell_type": "code",
   "execution_count": null,
   "id": "69302b72",
   "metadata": {
    "vscode": {
     "languageId": "ruby"
    }
   },
   "outputs": [
    {
     "data": {
      "text/html": [
       "<div>\n",
       "<style scoped>\n",
       "    .dataframe tbody tr th:only-of-type {\n",
       "        vertical-align: middle;\n",
       "    }\n",
       "\n",
       "    .dataframe tbody tr th {\n",
       "        vertical-align: top;\n",
       "    }\n",
       "\n",
       "    .dataframe thead th {\n",
       "        text-align: right;\n",
       "    }\n",
       "</style>\n",
       "<table border=\"1\" class=\"dataframe\">\n",
       "  <thead>\n",
       "    <tr style=\"text-align: right;\">\n",
       "      <th></th>\n",
       "      <th>Date Time</th>\n",
       "      <th>Year</th>\n",
       "      <th>Quarter</th>\n",
       "      <th>National Unsuppressed Demand</th>\n",
       "      <th>National Suppressed Demand</th>\n",
       "      <th>Hour</th>\n",
       "      <th>Day</th>\n",
       "      <th>Month</th>\n",
       "      <th>Lag_hour</th>\n",
       "      <th>Lag_day</th>\n",
       "      <th>Lag_week</th>\n",
       "      <th>Demand_Rolling_mean_24</th>\n",
       "      <th>Demand_Rolling_std_24</th>\n",
       "      <th>Demand_Rolling_median_24</th>\n",
       "    </tr>\n",
       "  </thead>\n",
       "  <tbody>\n",
       "    <tr>\n",
       "      <th>168</th>\n",
       "      <td>2016-01-08 00:00:00</td>\n",
       "      <td>2016</td>\n",
       "      <td>Q1</td>\n",
       "      <td>4771.960156</td>\n",
       "      <td>2352.926829</td>\n",
       "      <td>0</td>\n",
       "      <td>4</td>\n",
       "      <td>1</td>\n",
       "      <td>5007.392881</td>\n",
       "      <td>5135.131213</td>\n",
       "      <td>4670.268405</td>\n",
       "      <td>5432.035306</td>\n",
       "      <td>335.605928</td>\n",
       "      <td>5436.617063</td>\n",
       "    </tr>\n",
       "    <tr>\n",
       "      <th>169</th>\n",
       "      <td>2016-01-08 01:00:00</td>\n",
       "      <td>2016</td>\n",
       "      <td>Q1</td>\n",
       "      <td>4755.777770</td>\n",
       "      <td>2700.487805</td>\n",
       "      <td>1</td>\n",
       "      <td>4</td>\n",
       "      <td>1</td>\n",
       "      <td>4771.960156</td>\n",
       "      <td>5041.855982</td>\n",
       "      <td>4665.287441</td>\n",
       "      <td>5416.903179</td>\n",
       "      <td>357.075830</td>\n",
       "      <td>5436.617063</td>\n",
       "    </tr>\n",
       "    <tr>\n",
       "      <th>170</th>\n",
       "      <td>2016-01-08 02:00:00</td>\n",
       "      <td>2016</td>\n",
       "      <td>Q1</td>\n",
       "      <td>4741.270826</td>\n",
       "      <td>2644.146341</td>\n",
       "      <td>2</td>\n",
       "      <td>4</td>\n",
       "      <td>1</td>\n",
       "      <td>4755.777770</td>\n",
       "      <td>4995.167024</td>\n",
       "      <td>4682.517299</td>\n",
       "      <td>5404.983253</td>\n",
       "      <td>374.490308</td>\n",
       "      <td>5436.617063</td>\n",
       "    </tr>\n",
       "    <tr>\n",
       "      <th>171</th>\n",
       "      <td>2016-01-08 03:00:00</td>\n",
       "      <td>2016</td>\n",
       "      <td>Q1</td>\n",
       "      <td>4882.835752</td>\n",
       "      <td>2809.268293</td>\n",
       "      <td>3</td>\n",
       "      <td>4</td>\n",
       "      <td>1</td>\n",
       "      <td>4741.270826</td>\n",
       "      <td>5019.186669</td>\n",
       "      <td>4703.791990</td>\n",
       "      <td>5394.404245</td>\n",
       "      <td>389.842089</td>\n",
       "      <td>5436.617063</td>\n",
       "    </tr>\n",
       "    <tr>\n",
       "      <th>172</th>\n",
       "      <td>2016-01-08 04:00:00</td>\n",
       "      <td>2016</td>\n",
       "      <td>Q1</td>\n",
       "      <td>5003.225978</td>\n",
       "      <td>2804.634146</td>\n",
       "      <td>4</td>\n",
       "      <td>4</td>\n",
       "      <td>1</td>\n",
       "      <td>4882.835752</td>\n",
       "      <td>5139.087419</td>\n",
       "      <td>4857.064195</td>\n",
       "      <td>5388.722957</td>\n",
       "      <td>396.484941</td>\n",
       "      <td>5436.617063</td>\n",
       "    </tr>\n",
       "  </tbody>\n",
       "</table>\n",
       "</div>"
      ],
      "text/plain": [
       "              Date Time  Year Quarter  National Unsuppressed Demand  \\\n",
       "168 2016-01-08 00:00:00  2016      Q1                   4771.960156   \n",
       "169 2016-01-08 01:00:00  2016      Q1                   4755.777770   \n",
       "170 2016-01-08 02:00:00  2016      Q1                   4741.270826   \n",
       "171 2016-01-08 03:00:00  2016      Q1                   4882.835752   \n",
       "172 2016-01-08 04:00:00  2016      Q1                   5003.225978   \n",
       "\n",
       "     National Suppressed Demand  Hour  Day  Month     Lag_hour      Lag_day  \\\n",
       "168                 2352.926829     0    4      1  5007.392881  5135.131213   \n",
       "169                 2700.487805     1    4      1  4771.960156  5041.855982   \n",
       "170                 2644.146341     2    4      1  4755.777770  4995.167024   \n",
       "171                 2809.268293     3    4      1  4741.270826  5019.186669   \n",
       "172                 2804.634146     4    4      1  4882.835752  5139.087419   \n",
       "\n",
       "        Lag_week  Demand_Rolling_mean_24  Demand_Rolling_std_24  \\\n",
       "168  4670.268405             5432.035306             335.605928   \n",
       "169  4665.287441             5416.903179             357.075830   \n",
       "170  4682.517299             5404.983253             374.490308   \n",
       "171  4703.791990             5394.404245             389.842089   \n",
       "172  4857.064195             5388.722957             396.484941   \n",
       "\n",
       "     Demand_Rolling_median_24  \n",
       "168               5436.617063  \n",
       "169               5436.617063  \n",
       "170               5436.617063  \n",
       "171               5436.617063  \n",
       "172               5436.617063  "
      ]
     },
     "execution_count": 26,
     "metadata": {},
     "output_type": "execute_result"
    }
   ],
   "source": [
    "df.dropna(inplace=True)\n",
    "\n",
    "df.isnull().sum()\n",
    "df.head()"
   ]
  },
  {
   "cell_type": "code",
   "execution_count": null,
   "id": "9f9e1124",
   "metadata": {
    "vscode": {
     "languageId": "ruby"
    }
   },
   "outputs": [],
   "source": [
    "import sys, os\n",
    "sys.path.append(os.path.abspath(\"..\"))\n",
    "\n",
    "\n",
    "from src.features import is_weekend\n",
    "\n",
    "df['is_weekend'] = df['Date Time'].apply(is_weekend)\n",
    "\n",
    "\n",
    "\n",
    "\n"
   ]
  },
  {
   "cell_type": "code",
   "execution_count": null,
   "id": "3aeec556",
   "metadata": {
    "vscode": {
     "languageId": "ruby"
    }
   },
   "outputs": [
    {
     "data": {
      "text/html": [
       "<div>\n",
       "<style scoped>\n",
       "    .dataframe tbody tr th:only-of-type {\n",
       "        vertical-align: middle;\n",
       "    }\n",
       "\n",
       "    .dataframe tbody tr th {\n",
       "        vertical-align: top;\n",
       "    }\n",
       "\n",
       "    .dataframe thead th {\n",
       "        text-align: right;\n",
       "    }\n",
       "</style>\n",
       "<table border=\"1\" class=\"dataframe\">\n",
       "  <thead>\n",
       "    <tr style=\"text-align: right;\">\n",
       "      <th></th>\n",
       "      <th>Hour</th>\n",
       "      <th>Day</th>\n",
       "      <th>Month</th>\n",
       "      <th>Lag_hour</th>\n",
       "      <th>Lag_day</th>\n",
       "      <th>Lag_week</th>\n",
       "      <th>Demand_Rolling_mean_24</th>\n",
       "      <th>Demand_Rolling_std_24</th>\n",
       "      <th>Demand_Rolling_median_24</th>\n",
       "      <th>is_weekend</th>\n",
       "    </tr>\n",
       "  </thead>\n",
       "  <tbody>\n",
       "    <tr>\n",
       "      <th>168</th>\n",
       "      <td>0</td>\n",
       "      <td>4</td>\n",
       "      <td>1</td>\n",
       "      <td>5007.392881</td>\n",
       "      <td>5135.131213</td>\n",
       "      <td>4670.268405</td>\n",
       "      <td>5432.035306</td>\n",
       "      <td>335.605928</td>\n",
       "      <td>5436.617063</td>\n",
       "      <td>False</td>\n",
       "    </tr>\n",
       "    <tr>\n",
       "      <th>169</th>\n",
       "      <td>1</td>\n",
       "      <td>4</td>\n",
       "      <td>1</td>\n",
       "      <td>4771.960156</td>\n",
       "      <td>5041.855982</td>\n",
       "      <td>4665.287441</td>\n",
       "      <td>5416.903179</td>\n",
       "      <td>357.075830</td>\n",
       "      <td>5436.617063</td>\n",
       "      <td>False</td>\n",
       "    </tr>\n",
       "    <tr>\n",
       "      <th>170</th>\n",
       "      <td>2</td>\n",
       "      <td>4</td>\n",
       "      <td>1</td>\n",
       "      <td>4755.777770</td>\n",
       "      <td>4995.167024</td>\n",
       "      <td>4682.517299</td>\n",
       "      <td>5404.983253</td>\n",
       "      <td>374.490308</td>\n",
       "      <td>5436.617063</td>\n",
       "      <td>False</td>\n",
       "    </tr>\n",
       "    <tr>\n",
       "      <th>171</th>\n",
       "      <td>3</td>\n",
       "      <td>4</td>\n",
       "      <td>1</td>\n",
       "      <td>4741.270826</td>\n",
       "      <td>5019.186669</td>\n",
       "      <td>4703.791990</td>\n",
       "      <td>5394.404245</td>\n",
       "      <td>389.842089</td>\n",
       "      <td>5436.617063</td>\n",
       "      <td>False</td>\n",
       "    </tr>\n",
       "    <tr>\n",
       "      <th>172</th>\n",
       "      <td>4</td>\n",
       "      <td>4</td>\n",
       "      <td>1</td>\n",
       "      <td>4882.835752</td>\n",
       "      <td>5139.087419</td>\n",
       "      <td>4857.064195</td>\n",
       "      <td>5388.722957</td>\n",
       "      <td>396.484941</td>\n",
       "      <td>5436.617063</td>\n",
       "      <td>False</td>\n",
       "    </tr>\n",
       "  </tbody>\n",
       "</table>\n",
       "</div>"
      ],
      "text/plain": [
       "     Hour  Day  Month     Lag_hour      Lag_day     Lag_week  \\\n",
       "168     0    4      1  5007.392881  5135.131213  4670.268405   \n",
       "169     1    4      1  4771.960156  5041.855982  4665.287441   \n",
       "170     2    4      1  4755.777770  4995.167024  4682.517299   \n",
       "171     3    4      1  4741.270826  5019.186669  4703.791990   \n",
       "172     4    4      1  4882.835752  5139.087419  4857.064195   \n",
       "\n",
       "     Demand_Rolling_mean_24  Demand_Rolling_std_24  Demand_Rolling_median_24  \\\n",
       "168             5432.035306             335.605928               5436.617063   \n",
       "169             5416.903179             357.075830               5436.617063   \n",
       "170             5404.983253             374.490308               5436.617063   \n",
       "171             5394.404245             389.842089               5436.617063   \n",
       "172             5388.722957             396.484941               5436.617063   \n",
       "\n",
       "     is_weekend  \n",
       "168       False  \n",
       "169       False  \n",
       "170       False  \n",
       "171       False  \n",
       "172       False  "
      ]
     },
     "execution_count": 28,
     "metadata": {},
     "output_type": "execute_result"
    }
   ],
   "source": [
    "selected_features = ['Hour', 'Day', 'Month', 'Lag_hour', 'Lag_day', 'Lag_week', 'Demand_Rolling_mean_24', 'Demand_Rolling_std_24', 'Demand_Rolling_median_24', 'is_weekend']\n",
    "\n",
    "target_feature = 'National Unsuppressed Demand'\n",
    "\n",
    "X = df[selected_features]\n",
    "y = df[target_feature]\n",
    "\n",
    "X.head()"
   ]
  },
  {
   "cell_type": "code",
   "execution_count": null,
   "id": "83031822",
   "metadata": {
    "vscode": {
     "languageId": "ruby"
    }
   },
   "outputs": [
    {
     "name": "stdout",
     "output_type": "stream",
     "text": [
      "<class 'pandas.core.frame.DataFrame'>\n",
      "Index: 8616 entries, 168 to 8783\n",
      "Data columns (total 15 columns):\n",
      " #   Column                        Non-Null Count  Dtype         \n",
      "---  ------                        --------------  -----         \n",
      " 0   Date Time                     8616 non-null   datetime64[ns]\n",
      " 1   Year                          8616 non-null   int64         \n",
      " 2   Quarter                       8616 non-null   object        \n",
      " 3   National Unsuppressed Demand  8616 non-null   float64       \n",
      " 4   National Suppressed Demand    8616 non-null   float64       \n",
      " 5   Hour                          8616 non-null   int32         \n",
      " 6   Day                           8616 non-null   int32         \n",
      " 7   Month                         8616 non-null   int32         \n",
      " 8   Lag_hour                      8616 non-null   float64       \n",
      " 9   Lag_day                       8616 non-null   float64       \n",
      " 10  Lag_week                      8616 non-null   float64       \n",
      " 11  Demand_Rolling_mean_24        8616 non-null   float64       \n",
      " 12  Demand_Rolling_std_24         8616 non-null   float64       \n",
      " 13  Demand_Rolling_median_24      8616 non-null   float64       \n",
      " 14  is_weekend                    8616 non-null   bool          \n",
      "dtypes: bool(1), datetime64[ns](1), float64(8), int32(3), int64(1), object(1)\n",
      "memory usage: 917.1+ KB\n"
     ]
    }
   ],
   "source": [
    "df.info()"
   ]
  },
  {
   "cell_type": "code",
   "execution_count": null,
   "id": "8da122e0",
   "metadata": {
    "vscode": {
     "languageId": "ruby"
    }
   },
   "outputs": [
    {
     "data": {
      "text/plain": [
       "((6892, 10), (1724, 10), (6892,), (1724,))"
      ]
     },
     "execution_count": 30,
     "metadata": {},
     "output_type": "execute_result"
    }
   ],
   "source": [
    "#Time aware train/test split\n",
    "train_size = int(len(df) * 0.8)\n",
    "X_train, X_test = X[:train_size], X[train_size:]\n",
    "y_train, y_test = y[:train_size], y[train_size:]\n",
    "\n",
    "X_train.shape, X_test.shape, y_train.shape, y_test.shape"
   ]
  },
  {
   "cell_type": "code",
   "execution_count": null,
   "id": "03ce5164",
   "metadata": {
    "vscode": {
     "languageId": "ruby"
    }
   },
   "outputs": [
    {
     "name": "stdout",
     "output_type": "stream",
     "text": [
      "0.9143963021459492\n"
     ]
    }
   ],
   "source": [
    "from sklearn.linear_model import LinearRegression\n",
    "lr_demand_model = LinearRegression()\n",
    "lr_demand_model.fit(X_train, y_train)\n",
    "y_pred = lr_demand_model.predict(X_test)\n",
    "\n",
    "print(lr_demand_model.score(X_test, y_test))\n"
   ]
  },
  {
   "cell_type": "code",
   "execution_count": null,
   "id": "cce6c853",
   "metadata": {
    "vscode": {
     "languageId": "ruby"
    }
   },
   "outputs": [
    {
     "name": "stdout",
     "output_type": "stream",
     "text": [
      "MAE: 124.42238504387026; MSE: 25308.909859436484; RMSE: 159.08774264360056\n"
     ]
    }
   ],
   "source": [
    "from sklearn.metrics import mean_absolute_error, mean_squared_error\n",
    "import numpy as np\n",
    "\n",
    "mae = mean_absolute_error(y_test, y_pred)\n",
    "mse = mean_squared_error(y_test, y_pred)\n",
    "rmse = np.sqrt(mean_squared_error(y_test, y_pred))\n",
    "\n",
    "print(f\"MAE: {mae}; MSE: {mse}; RMSE: {rmse}\")"
   ]
  },
  {
   "cell_type": "code",
   "execution_count": null,
   "id": "de685157",
   "metadata": {
    "vscode": {
     "languageId": "ruby"
    }
   },
   "outputs": [
    {
     "name": "stdout",
     "output_type": "stream",
     "text": [
      "MAE for Decision Tree: 170.0890336233963\n"
     ]
    }
   ],
   "source": [
    "from sklearn.tree import DecisionTreeRegressor\n",
    "dt_demand_model = DecisionTreeRegressor(random_state=42)\n",
    "dt_demand_model.fit(X_train, y_train)\n",
    "\n",
    "y_dt_pred = dt_demand_model.predict(X_test)\n",
    "print(\"MAE for Decision Tree:\", mean_absolute_error(y_test, y_dt_pred))"
   ]
  },
  {
   "cell_type": "code",
   "execution_count": null,
   "id": "bb2635fc",
   "metadata": {
    "vscode": {
     "languageId": "ruby"
    }
   },
   "outputs": [
    {
     "name": "stdout",
     "output_type": "stream",
     "text": [
      "MAE for Random Forest: 104.85958531454331\n",
      "MAPE: 1.8398930927667085%\n"
     ]
    }
   ],
   "source": [
    "from sklearn.ensemble import RandomForestRegressor\n",
    "rf_demand_model = RandomForestRegressor(random_state=42)\n",
    "rf_demand_model.fit(X_train, y_train)\n",
    "\n",
    "y_rf_pred = rf_demand_model.predict(X_test)\n",
    "print(\"MAE for Random Forest:\",mean_absolute_error(y_test, y_rf_pred))\n",
    "\n",
    "mape = np.mean(np.abs((y_test - y_rf_pred) / y_test)) * 100\n",
    "print(f\"MAPE: {mape}%\")"
   ]
  },
  {
   "cell_type": "code",
   "execution_count": null,
   "id": "a0579fa6",
   "metadata": {
    "vscode": {
     "languageId": "ruby"
    }
   },
   "outputs": [],
   "source": [
    "Model_Accuracies =  {\n",
    "    \"Linear Regression\": mean_absolute_error(y_test, y_pred),\n",
    "    \"Decision Tree\": mean_absolute_error(y_test, y_dt_pred),\n",
    "    \"Random Forest\": mean_absolute_error(y_test, y_rf_pred)\n",
    "} "
   ]
  },
  {
   "cell_type": "code",
   "execution_count": null,
   "id": "f73811a2",
   "metadata": {
    "vscode": {
     "languageId": "ruby"
    }
   },
   "outputs": [
    {
     "name": "stdout",
     "output_type": "stream",
     "text": [
      "{'Linear Regression': 124.42238504387026, 'Decision Tree': 170.0890336233963, 'Random Forest': 104.85958531454331}\n"
     ]
    }
   ],
   "source": [
    "print(Model_Accuracies)"
   ]
  },
  {
   "cell_type": "code",
   "execution_count": null,
   "id": "9488cd9d",
   "metadata": {
    "vscode": {
     "languageId": "ruby"
    }
   },
   "outputs": [
    {
     "name": "stderr",
     "output_type": "stream",
     "text": [
      "warning: in the working copy of 'notebooks/demand_forecasting.ipynb', LF will be replaced by CRLF the next time Git touches it\n"
     ]
    },
    {
     "name": "stdout",
     "output_type": "stream",
     "text": [
      "[main 739f63e] Modeling: Trained and evaluated Linear Regression, Decision Tree, and Random Forest models\n",
      " 1 file changed, 0 insertions(+), 0 deletions(-)\n",
      " rename notebooks/{01_data_exploration.ipynb => demand_forecasting.ipynb} (100%)\n"
     ]
    },
    {
     "name": "stderr",
     "output_type": "stream",
     "text": [
      "To https://github.com/Khalmade/energy_demand_forecasting.git\n",
      "   365df21..739f63e  main -> main\n"
     ]
    }
   ],
   "source": [
    "!git add .\n",
    "!git commit -m \"Modeling: Trained and evaluated Linear Regression, Decision Tree, and Random Forest models\"\n",
    "!git push"
   ]
  }
 ],
 "metadata": {
  "kernelspec": {
   "display_name": "Python 3",
   "language": "python",
   "name": "python3"
  },
  "language_info": {
   "codemirror_mode": {
    "name": "ipython",
    "version": 3
   },
   "file_extension": ".py",
   "mimetype": "text/x-python",
   "name": "python",
   "nbconvert_exporter": "python",
   "pygments_lexer": "ipython3",
   "version": "3.13.7"
  }
 },
 "nbformat": 4,
 "nbformat_minor": 5
}
