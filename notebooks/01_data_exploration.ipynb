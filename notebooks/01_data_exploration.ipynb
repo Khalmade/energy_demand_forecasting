{
 "cells": [
  {
   "cell_type": "code",
   "execution_count": 60,
   "id": "918eec21",
   "metadata": {},
   "outputs": [
    {
     "name": "stdout",
     "output_type": "stream",
     "text": [
      "Hello\n"
     ]
    }
   ],
   "source": [
    "print (\"Hello\")"
   ]
  },
  {
   "cell_type": "code",
   "execution_count": 61,
   "id": "245dd6d9",
   "metadata": {},
   "outputs": [
    {
     "name": "stdout",
     "output_type": "stream",
     "text": [
      "On branch main\n",
      "Your branch is up to date with 'origin/main'.\n",
      "\n",
      "nothing to commit, working tree clean\n"
     ]
    },
    {
     "name": "stderr",
     "output_type": "stream",
     "text": [
      "Everything up-to-date\n"
     ]
    }
   ],
   "source": [
    "!git add .\n",
    "!git commit -m \"Add fresh 01_data_exploration notebook\"\n",
    "!git push origin main --force\n"
   ]
  },
  {
   "cell_type": "code",
   "execution_count": 62,
   "id": "1afebcb0",
   "metadata": {},
   "outputs": [
    {
     "data": {
      "text/html": [
       "<div>\n",
       "<style scoped>\n",
       "    .dataframe tbody tr th:only-of-type {\n",
       "        vertical-align: middle;\n",
       "    }\n",
       "\n",
       "    .dataframe tbody tr th {\n",
       "        vertical-align: top;\n",
       "    }\n",
       "\n",
       "    .dataframe thead th {\n",
       "        text-align: right;\n",
       "    }\n",
       "</style>\n",
       "<table border=\"1\" class=\"dataframe\">\n",
       "  <thead>\n",
       "    <tr style=\"text-align: right;\">\n",
       "      <th></th>\n",
       "      <th>Demand Timeseries</th>\n",
       "      <th>Unnamed: 1</th>\n",
       "      <th>Unnamed: 2</th>\n",
       "      <th>Unnamed: 3</th>\n",
       "      <th>Unnamed: 4</th>\n",
       "    </tr>\n",
       "  </thead>\n",
       "  <tbody>\n",
       "    <tr>\n",
       "      <th>0</th>\n",
       "      <td>NaN</td>\n",
       "      <td>NaN</td>\n",
       "      <td>NaN</td>\n",
       "      <td>NaN</td>\n",
       "      <td>NaN</td>\n",
       "    </tr>\n",
       "    <tr>\n",
       "      <th>1</th>\n",
       "      <td>NaN</td>\n",
       "      <td>NaN</td>\n",
       "      <td>NaN</td>\n",
       "      <td>NaN</td>\n",
       "      <td>NaN</td>\n",
       "    </tr>\n",
       "    <tr>\n",
       "      <th>2</th>\n",
       "      <td>date time</td>\n",
       "      <td>Year</td>\n",
       "      <td>Quarter</td>\n",
       "      <td>National Unsuppressed Demand</td>\n",
       "      <td>National Suppressed Demand</td>\n",
       "    </tr>\n",
       "    <tr>\n",
       "      <th>3</th>\n",
       "      <td>2016-01-01 00:00:00</td>\n",
       "      <td>2016</td>\n",
       "      <td>Q1</td>\n",
       "      <td>4670.268405</td>\n",
       "      <td>2527.804878</td>\n",
       "    </tr>\n",
       "    <tr>\n",
       "      <th>4</th>\n",
       "      <td>2016-01-01 01:00:00</td>\n",
       "      <td>2016</td>\n",
       "      <td>Q1</td>\n",
       "      <td>4665.287441</td>\n",
       "      <td>2789.02439</td>\n",
       "    </tr>\n",
       "  </tbody>\n",
       "</table>\n",
       "</div>"
      ],
      "text/plain": [
       "     Demand Timeseries Unnamed: 1 Unnamed: 2                    Unnamed: 3  \\\n",
       "0                  NaN        NaN        NaN                           NaN   \n",
       "1                  NaN        NaN        NaN                           NaN   \n",
       "2            date time       Year    Quarter  National Unsuppressed Demand   \n",
       "3  2016-01-01 00:00:00       2016         Q1                   4670.268405   \n",
       "4  2016-01-01 01:00:00       2016         Q1                   4665.287441   \n",
       "\n",
       "                   Unnamed: 4  \n",
       "0                         NaN  \n",
       "1                         NaN  \n",
       "2  National Suppressed Demand  \n",
       "3                 2527.804878  \n",
       "4                  2789.02439  "
      ]
     },
     "execution_count": 62,
     "metadata": {},
     "output_type": "execute_result"
    }
   ],
   "source": [
    "import pandas as pd\n",
    "file_path = \"../data/Nigeria National Demand Timeseries.xlsx\"\n",
    "df = pd.read_excel(file_path)\n",
    "df.head()"
   ]
  },
  {
   "cell_type": "code",
   "execution_count": 63,
   "id": "35a546dd",
   "metadata": {},
   "outputs": [
    {
     "data": {
      "text/html": [
       "<div>\n",
       "<style scoped>\n",
       "    .dataframe tbody tr th:only-of-type {\n",
       "        vertical-align: middle;\n",
       "    }\n",
       "\n",
       "    .dataframe tbody tr th {\n",
       "        vertical-align: top;\n",
       "    }\n",
       "\n",
       "    .dataframe thead th {\n",
       "        text-align: right;\n",
       "    }\n",
       "</style>\n",
       "<table border=\"1\" class=\"dataframe\">\n",
       "  <thead>\n",
       "    <tr style=\"text-align: right;\">\n",
       "      <th></th>\n",
       "      <th>Demand Timeseries</th>\n",
       "      <th>Unnamed: 1</th>\n",
       "      <th>Unnamed: 2</th>\n",
       "      <th>Unnamed: 3</th>\n",
       "      <th>Unnamed: 4</th>\n",
       "    </tr>\n",
       "  </thead>\n",
       "  <tbody>\n",
       "    <tr>\n",
       "      <th>count</th>\n",
       "      <td>8785</td>\n",
       "      <td>8785</td>\n",
       "      <td>8785</td>\n",
       "      <td>8785.000000</td>\n",
       "      <td>8785.000000</td>\n",
       "    </tr>\n",
       "    <tr>\n",
       "      <th>unique</th>\n",
       "      <td>8785</td>\n",
       "      <td>2</td>\n",
       "      <td>5</td>\n",
       "      <td>8784.000000</td>\n",
       "      <td>8499.000000</td>\n",
       "    </tr>\n",
       "    <tr>\n",
       "      <th>top</th>\n",
       "      <td>date time</td>\n",
       "      <td>2016</td>\n",
       "      <td>Q3</td>\n",
       "      <td>3973.210413</td>\n",
       "      <td>2426.226935</td>\n",
       "    </tr>\n",
       "    <tr>\n",
       "      <th>freq</th>\n",
       "      <td>1</td>\n",
       "      <td>8784</td>\n",
       "      <td>2208</td>\n",
       "      <td>2.000000</td>\n",
       "      <td>58.000000</td>\n",
       "    </tr>\n",
       "  </tbody>\n",
       "</table>\n",
       "</div>"
      ],
      "text/plain": [
       "       Demand Timeseries  Unnamed: 1 Unnamed: 2   Unnamed: 3   Unnamed: 4\n",
       "count               8785        8785       8785  8785.000000  8785.000000\n",
       "unique              8785           2          5  8784.000000  8499.000000\n",
       "top            date time        2016         Q3  3973.210413  2426.226935\n",
       "freq                   1        8784       2208     2.000000    58.000000"
      ]
     },
     "execution_count": 63,
     "metadata": {},
     "output_type": "execute_result"
    }
   ],
   "source": [
    "df.describe()"
   ]
  },
  {
   "cell_type": "code",
   "execution_count": 64,
   "id": "d08ce4dd",
   "metadata": {},
   "outputs": [
    {
     "data": {
      "text/plain": [
       "Demand Timeseries    2\n",
       "Unnamed: 1           2\n",
       "Unnamed: 2           2\n",
       "Unnamed: 3           2\n",
       "Unnamed: 4           2\n",
       "dtype: int64"
      ]
     },
     "execution_count": 64,
     "metadata": {},
     "output_type": "execute_result"
    }
   ],
   "source": [
    "df.isnull().sum()"
   ]
  },
  {
   "cell_type": "code",
   "execution_count": 65,
   "id": "27c6bc82",
   "metadata": {},
   "outputs": [
    {
     "data": {
      "text/html": [
       "<div>\n",
       "<style scoped>\n",
       "    .dataframe tbody tr th:only-of-type {\n",
       "        vertical-align: middle;\n",
       "    }\n",
       "\n",
       "    .dataframe tbody tr th {\n",
       "        vertical-align: top;\n",
       "    }\n",
       "\n",
       "    .dataframe thead th {\n",
       "        text-align: right;\n",
       "    }\n",
       "</style>\n",
       "<table border=\"1\" class=\"dataframe\">\n",
       "  <thead>\n",
       "    <tr style=\"text-align: right;\">\n",
       "      <th></th>\n",
       "      <th>Unnamed: 0</th>\n",
       "      <th>Unnamed: 1</th>\n",
       "      <th>Unnamed: 2</th>\n",
       "      <th>Unnamed: 3</th>\n",
       "      <th>Unnamed: 4</th>\n",
       "    </tr>\n",
       "  </thead>\n",
       "  <tbody>\n",
       "    <tr>\n",
       "      <th>0</th>\n",
       "      <td>date time</td>\n",
       "      <td>Year</td>\n",
       "      <td>Quarter</td>\n",
       "      <td>National Unsuppressed Demand</td>\n",
       "      <td>National Suppressed Demand</td>\n",
       "    </tr>\n",
       "    <tr>\n",
       "      <th>1</th>\n",
       "      <td>2016-01-01 00:00:00</td>\n",
       "      <td>2016</td>\n",
       "      <td>Q1</td>\n",
       "      <td>4670.268405</td>\n",
       "      <td>2527.804878</td>\n",
       "    </tr>\n",
       "    <tr>\n",
       "      <th>2</th>\n",
       "      <td>2016-01-01 01:00:00</td>\n",
       "      <td>2016</td>\n",
       "      <td>Q1</td>\n",
       "      <td>4665.287441</td>\n",
       "      <td>2789.02439</td>\n",
       "    </tr>\n",
       "    <tr>\n",
       "      <th>3</th>\n",
       "      <td>2016-01-01 02:00:00</td>\n",
       "      <td>2016</td>\n",
       "      <td>Q1</td>\n",
       "      <td>4682.517299</td>\n",
       "      <td>2815.121951</td>\n",
       "    </tr>\n",
       "    <tr>\n",
       "      <th>4</th>\n",
       "      <td>2016-01-01 03:00:00</td>\n",
       "      <td>2016</td>\n",
       "      <td>Q1</td>\n",
       "      <td>4703.79199</td>\n",
       "      <td>2785.121951</td>\n",
       "    </tr>\n",
       "  </tbody>\n",
       "</table>\n",
       "</div>"
      ],
      "text/plain": [
       "            Unnamed: 0 Unnamed: 1 Unnamed: 2                    Unnamed: 3  \\\n",
       "0            date time       Year    Quarter  National Unsuppressed Demand   \n",
       "1  2016-01-01 00:00:00       2016         Q1                   4670.268405   \n",
       "2  2016-01-01 01:00:00       2016         Q1                   4665.287441   \n",
       "3  2016-01-01 02:00:00       2016         Q1                   4682.517299   \n",
       "4  2016-01-01 03:00:00       2016         Q1                    4703.79199   \n",
       "\n",
       "                   Unnamed: 4  \n",
       "0  National Suppressed Demand  \n",
       "1                 2527.804878  \n",
       "2                  2789.02439  \n",
       "3                 2815.121951  \n",
       "4                 2785.121951  "
      ]
     },
     "execution_count": 65,
     "metadata": {},
     "output_type": "execute_result"
    }
   ],
   "source": [
    "df = pd.read_excel(file_path, header = 2)\n",
    "df.head()"
   ]
  },
  {
   "cell_type": "code",
   "execution_count": 66,
   "id": "44e1b8fd",
   "metadata": {},
   "outputs": [
    {
     "data": {
      "text/html": [
       "<div>\n",
       "<style scoped>\n",
       "    .dataframe tbody tr th:only-of-type {\n",
       "        vertical-align: middle;\n",
       "    }\n",
       "\n",
       "    .dataframe tbody tr th {\n",
       "        vertical-align: top;\n",
       "    }\n",
       "\n",
       "    .dataframe thead th {\n",
       "        text-align: right;\n",
       "    }\n",
       "</style>\n",
       "<table border=\"1\" class=\"dataframe\">\n",
       "  <thead>\n",
       "    <tr style=\"text-align: right;\">\n",
       "      <th></th>\n",
       "      <th>Unnamed: 0</th>\n",
       "      <th>Unnamed: 1</th>\n",
       "      <th>Unnamed: 2</th>\n",
       "      <th>Unnamed: 3</th>\n",
       "      <th>Unnamed: 4</th>\n",
       "    </tr>\n",
       "  </thead>\n",
       "  <tbody>\n",
       "    <tr>\n",
       "      <th>1</th>\n",
       "      <td>2016-01-01 00:00:00</td>\n",
       "      <td>2016</td>\n",
       "      <td>Q1</td>\n",
       "      <td>4670.268405</td>\n",
       "      <td>2527.804878</td>\n",
       "    </tr>\n",
       "    <tr>\n",
       "      <th>2</th>\n",
       "      <td>2016-01-01 01:00:00</td>\n",
       "      <td>2016</td>\n",
       "      <td>Q1</td>\n",
       "      <td>4665.287441</td>\n",
       "      <td>2789.02439</td>\n",
       "    </tr>\n",
       "    <tr>\n",
       "      <th>3</th>\n",
       "      <td>2016-01-01 02:00:00</td>\n",
       "      <td>2016</td>\n",
       "      <td>Q1</td>\n",
       "      <td>4682.517299</td>\n",
       "      <td>2815.121951</td>\n",
       "    </tr>\n",
       "    <tr>\n",
       "      <th>4</th>\n",
       "      <td>2016-01-01 03:00:00</td>\n",
       "      <td>2016</td>\n",
       "      <td>Q1</td>\n",
       "      <td>4703.79199</td>\n",
       "      <td>2785.121951</td>\n",
       "    </tr>\n",
       "    <tr>\n",
       "      <th>5</th>\n",
       "      <td>2016-01-01 04:00:00</td>\n",
       "      <td>2016</td>\n",
       "      <td>Q1</td>\n",
       "      <td>4857.064195</td>\n",
       "      <td>2794.878049</td>\n",
       "    </tr>\n",
       "    <tr>\n",
       "      <th>...</th>\n",
       "      <td>...</td>\n",
       "      <td>...</td>\n",
       "      <td>...</td>\n",
       "      <td>...</td>\n",
       "      <td>...</td>\n",
       "    </tr>\n",
       "    <tr>\n",
       "      <th>8780</th>\n",
       "      <td>2016-12-31 18:59:59.998000</td>\n",
       "      <td>2016</td>\n",
       "      <td>Q4</td>\n",
       "      <td>6099.345965</td>\n",
       "      <td>3178.630986</td>\n",
       "    </tr>\n",
       "    <tr>\n",
       "      <th>8781</th>\n",
       "      <td>2016-12-31 19:59:59.998000</td>\n",
       "      <td>2016</td>\n",
       "      <td>Q4</td>\n",
       "      <td>6173.292224</td>\n",
       "      <td>3020.387622</td>\n",
       "    </tr>\n",
       "    <tr>\n",
       "      <th>8782</th>\n",
       "      <td>2016-12-31 20:59:59.998000</td>\n",
       "      <td>2016</td>\n",
       "      <td>Q4</td>\n",
       "      <td>5859.663577</td>\n",
       "      <td>2930.626564</td>\n",
       "    </tr>\n",
       "    <tr>\n",
       "      <th>8783</th>\n",
       "      <td>2016-12-31 21:59:59.998000</td>\n",
       "      <td>2016</td>\n",
       "      <td>Q4</td>\n",
       "      <td>5507.905382</td>\n",
       "      <td>2939.975938</td>\n",
       "    </tr>\n",
       "    <tr>\n",
       "      <th>8784</th>\n",
       "      <td>2016-12-31 22:59:59.998000</td>\n",
       "      <td>2016</td>\n",
       "      <td>Q4</td>\n",
       "      <td>5155.935255</td>\n",
       "      <td>2925.990258</td>\n",
       "    </tr>\n",
       "  </tbody>\n",
       "</table>\n",
       "<p>8784 rows × 5 columns</p>\n",
       "</div>"
      ],
      "text/plain": [
       "                      Unnamed: 0 Unnamed: 1 Unnamed: 2   Unnamed: 3  \\\n",
       "1            2016-01-01 00:00:00       2016         Q1  4670.268405   \n",
       "2            2016-01-01 01:00:00       2016         Q1  4665.287441   \n",
       "3            2016-01-01 02:00:00       2016         Q1  4682.517299   \n",
       "4            2016-01-01 03:00:00       2016         Q1   4703.79199   \n",
       "5            2016-01-01 04:00:00       2016         Q1  4857.064195   \n",
       "...                          ...        ...        ...          ...   \n",
       "8780  2016-12-31 18:59:59.998000       2016         Q4  6099.345965   \n",
       "8781  2016-12-31 19:59:59.998000       2016         Q4  6173.292224   \n",
       "8782  2016-12-31 20:59:59.998000       2016         Q4  5859.663577   \n",
       "8783  2016-12-31 21:59:59.998000       2016         Q4  5507.905382   \n",
       "8784  2016-12-31 22:59:59.998000       2016         Q4  5155.935255   \n",
       "\n",
       "       Unnamed: 4  \n",
       "1     2527.804878  \n",
       "2      2789.02439  \n",
       "3     2815.121951  \n",
       "4     2785.121951  \n",
       "5     2794.878049  \n",
       "...           ...  \n",
       "8780  3178.630986  \n",
       "8781  3020.387622  \n",
       "8782  2930.626564  \n",
       "8783  2939.975938  \n",
       "8784  2925.990258  \n",
       "\n",
       "[8784 rows x 5 columns]"
      ]
     },
     "execution_count": 66,
     "metadata": {},
     "output_type": "execute_result"
    }
   ],
   "source": [
    "df.drop(0)"
   ]
  },
  {
   "cell_type": "code",
   "execution_count": null,
   "id": "774a0408",
   "metadata": {},
   "outputs": [],
   "source": []
  },
  {
   "cell_type": "code",
   "execution_count": 67,
   "id": "6967fbf7",
   "metadata": {},
   "outputs": [],
   "source": [
    "df = df.rename(columns={\n",
    "    'Unnamed: 0': 'Date Time',\n",
    "    'Unnamed: 1': 'Year',\n",
    "    'Unnamed: 2': 'Quarter',\n",
    "    'Unnamed: 3': 'National Unsuppressed Demand',\n",
    "    'Unnamed: 4': 'National Suppressed Demand'\n",
    "})\n"
   ]
  },
  {
   "cell_type": "code",
   "execution_count": 68,
   "id": "3a2165e8",
   "metadata": {},
   "outputs": [
    {
     "data": {
      "text/html": [
       "<div>\n",
       "<style scoped>\n",
       "    .dataframe tbody tr th:only-of-type {\n",
       "        vertical-align: middle;\n",
       "    }\n",
       "\n",
       "    .dataframe tbody tr th {\n",
       "        vertical-align: top;\n",
       "    }\n",
       "\n",
       "    .dataframe thead th {\n",
       "        text-align: right;\n",
       "    }\n",
       "</style>\n",
       "<table border=\"1\" class=\"dataframe\">\n",
       "  <thead>\n",
       "    <tr style=\"text-align: right;\">\n",
       "      <th></th>\n",
       "      <th>Date Time</th>\n",
       "      <th>Year</th>\n",
       "      <th>Quarter</th>\n",
       "      <th>National Unsuppressed Demand</th>\n",
       "      <th>National Suppressed Demand</th>\n",
       "    </tr>\n",
       "  </thead>\n",
       "  <tbody>\n",
       "    <tr>\n",
       "      <th>0</th>\n",
       "      <td>date time</td>\n",
       "      <td>Year</td>\n",
       "      <td>Quarter</td>\n",
       "      <td>National Unsuppressed Demand</td>\n",
       "      <td>National Suppressed Demand</td>\n",
       "    </tr>\n",
       "    <tr>\n",
       "      <th>1</th>\n",
       "      <td>2016-01-01 00:00:00</td>\n",
       "      <td>2016</td>\n",
       "      <td>Q1</td>\n",
       "      <td>4670.268405</td>\n",
       "      <td>2527.804878</td>\n",
       "    </tr>\n",
       "    <tr>\n",
       "      <th>2</th>\n",
       "      <td>2016-01-01 01:00:00</td>\n",
       "      <td>2016</td>\n",
       "      <td>Q1</td>\n",
       "      <td>4665.287441</td>\n",
       "      <td>2789.02439</td>\n",
       "    </tr>\n",
       "    <tr>\n",
       "      <th>3</th>\n",
       "      <td>2016-01-01 02:00:00</td>\n",
       "      <td>2016</td>\n",
       "      <td>Q1</td>\n",
       "      <td>4682.517299</td>\n",
       "      <td>2815.121951</td>\n",
       "    </tr>\n",
       "    <tr>\n",
       "      <th>4</th>\n",
       "      <td>2016-01-01 03:00:00</td>\n",
       "      <td>2016</td>\n",
       "      <td>Q1</td>\n",
       "      <td>4703.79199</td>\n",
       "      <td>2785.121951</td>\n",
       "    </tr>\n",
       "  </tbody>\n",
       "</table>\n",
       "</div>"
      ],
      "text/plain": [
       "             Date Time  Year  Quarter  National Unsuppressed Demand  \\\n",
       "0            date time  Year  Quarter  National Unsuppressed Demand   \n",
       "1  2016-01-01 00:00:00  2016       Q1                   4670.268405   \n",
       "2  2016-01-01 01:00:00  2016       Q1                   4665.287441   \n",
       "3  2016-01-01 02:00:00  2016       Q1                   4682.517299   \n",
       "4  2016-01-01 03:00:00  2016       Q1                    4703.79199   \n",
       "\n",
       "   National Suppressed Demand  \n",
       "0  National Suppressed Demand  \n",
       "1                 2527.804878  \n",
       "2                  2789.02439  \n",
       "3                 2815.121951  \n",
       "4                 2785.121951  "
      ]
     },
     "execution_count": 68,
     "metadata": {},
     "output_type": "execute_result"
    }
   ],
   "source": [
    "df.head()"
   ]
  },
  {
   "cell_type": "code",
   "execution_count": 69,
   "id": "e9963298",
   "metadata": {},
   "outputs": [
    {
     "data": {
      "text/html": [
       "<div>\n",
       "<style scoped>\n",
       "    .dataframe tbody tr th:only-of-type {\n",
       "        vertical-align: middle;\n",
       "    }\n",
       "\n",
       "    .dataframe tbody tr th {\n",
       "        vertical-align: top;\n",
       "    }\n",
       "\n",
       "    .dataframe thead th {\n",
       "        text-align: right;\n",
       "    }\n",
       "</style>\n",
       "<table border=\"1\" class=\"dataframe\">\n",
       "  <thead>\n",
       "    <tr style=\"text-align: right;\">\n",
       "      <th></th>\n",
       "      <th>Date Time</th>\n",
       "      <th>Year</th>\n",
       "      <th>Quarter</th>\n",
       "      <th>National Unsuppressed Demand</th>\n",
       "      <th>National Suppressed Demand</th>\n",
       "    </tr>\n",
       "  </thead>\n",
       "  <tbody>\n",
       "    <tr>\n",
       "      <th>0</th>\n",
       "      <td>2016-01-01 00:00:00</td>\n",
       "      <td>2016</td>\n",
       "      <td>Q1</td>\n",
       "      <td>4670.268405</td>\n",
       "      <td>2527.804878</td>\n",
       "    </tr>\n",
       "    <tr>\n",
       "      <th>1</th>\n",
       "      <td>2016-01-01 01:00:00</td>\n",
       "      <td>2016</td>\n",
       "      <td>Q1</td>\n",
       "      <td>4665.287441</td>\n",
       "      <td>2789.02439</td>\n",
       "    </tr>\n",
       "    <tr>\n",
       "      <th>2</th>\n",
       "      <td>2016-01-01 02:00:00</td>\n",
       "      <td>2016</td>\n",
       "      <td>Q1</td>\n",
       "      <td>4682.517299</td>\n",
       "      <td>2815.121951</td>\n",
       "    </tr>\n",
       "    <tr>\n",
       "      <th>3</th>\n",
       "      <td>2016-01-01 03:00:00</td>\n",
       "      <td>2016</td>\n",
       "      <td>Q1</td>\n",
       "      <td>4703.79199</td>\n",
       "      <td>2785.121951</td>\n",
       "    </tr>\n",
       "    <tr>\n",
       "      <th>4</th>\n",
       "      <td>2016-01-01 04:00:00</td>\n",
       "      <td>2016</td>\n",
       "      <td>Q1</td>\n",
       "      <td>4857.064195</td>\n",
       "      <td>2794.878049</td>\n",
       "    </tr>\n",
       "  </tbody>\n",
       "</table>\n",
       "</div>"
      ],
      "text/plain": [
       "             Date Time  Year Quarter National Unsuppressed Demand  \\\n",
       "0  2016-01-01 00:00:00  2016      Q1                  4670.268405   \n",
       "1  2016-01-01 01:00:00  2016      Q1                  4665.287441   \n",
       "2  2016-01-01 02:00:00  2016      Q1                  4682.517299   \n",
       "3  2016-01-01 03:00:00  2016      Q1                   4703.79199   \n",
       "4  2016-01-01 04:00:00  2016      Q1                  4857.064195   \n",
       "\n",
       "  National Suppressed Demand  \n",
       "0                2527.804878  \n",
       "1                 2789.02439  \n",
       "2                2815.121951  \n",
       "3                2785.121951  \n",
       "4                2794.878049  "
      ]
     },
     "execution_count": 69,
     "metadata": {},
     "output_type": "execute_result"
    }
   ],
   "source": [
    "df = df.drop(0).reset_index(drop=True)\n",
    "df.head()"
   ]
  },
  {
   "cell_type": "code",
   "execution_count": 70,
   "id": "f1910fcd",
   "metadata": {},
   "outputs": [],
   "source": [
    "!git add ."
   ]
  },
  {
   "cell_type": "code",
   "execution_count": 71,
   "id": "3800ebff",
   "metadata": {},
   "outputs": [
    {
     "name": "stdout",
     "output_type": "stream",
     "text": [
      "On branch main\n",
      "Your branch is up to date with 'origin/main'.\n",
      "\n",
      "nothing to commit, working tree clean\n"
     ]
    }
   ],
   "source": [
    "!git commit -m \"Data cleaning and preprocessing\""
   ]
  },
  {
   "cell_type": "code",
   "execution_count": 72,
   "id": "e1e91d17",
   "metadata": {},
   "outputs": [
    {
     "name": "stderr",
     "output_type": "stream",
     "text": [
      "Everything up-to-date\n"
     ]
    }
   ],
   "source": [
    "!git push origin main"
   ]
  },
  {
   "cell_type": "code",
   "execution_count": 73,
   "id": "5615a504",
   "metadata": {},
   "outputs": [
    {
     "name": "stdout",
     "output_type": "stream",
     "text": [
      "<class 'pandas.core.frame.DataFrame'>\n",
      "RangeIndex: 8784 entries, 0 to 8783\n",
      "Data columns (total 5 columns):\n",
      " #   Column                        Non-Null Count  Dtype \n",
      "---  ------                        --------------  ----- \n",
      " 0   Date Time                     8784 non-null   object\n",
      " 1   Year                          8784 non-null   object\n",
      " 2   Quarter                       8784 non-null   object\n",
      " 3   National Unsuppressed Demand  8784 non-null   object\n",
      " 4   National Suppressed Demand    8784 non-null   object\n",
      "dtypes: object(5)\n",
      "memory usage: 343.3+ KB\n"
     ]
    }
   ],
   "source": [
    "df.info()"
   ]
  },
  {
   "cell_type": "code",
   "execution_count": 74,
   "id": "4790abd0",
   "metadata": {},
   "outputs": [
    {
     "name": "stdout",
     "output_type": "stream",
     "text": [
      "<class 'pandas.core.frame.DataFrame'>\n",
      "RangeIndex: 8784 entries, 0 to 8783\n",
      "Data columns (total 5 columns):\n",
      " #   Column                        Non-Null Count  Dtype         \n",
      "---  ------                        --------------  -----         \n",
      " 0   Date Time                     8784 non-null   datetime64[ns]\n",
      " 1   Year                          8784 non-null   int64         \n",
      " 2   Quarter                       8784 non-null   object        \n",
      " 3   National Unsuppressed Demand  8784 non-null   float64       \n",
      " 4   National Suppressed Demand    8784 non-null   float64       \n",
      "dtypes: datetime64[ns](1), float64(2), int64(1), object(1)\n",
      "memory usage: 343.3+ KB\n"
     ]
    }
   ],
   "source": [
    "df[\"Date Time\"] = pd.to_datetime(df[\"Date Time\"])\n",
    "df[\"Year\"] = pd.to_numeric(df[\"Year\"])\n",
    "\n",
    "\n",
    "Demand = [\"National Unsuppressed Demand\", \"National Suppressed Demand\"]\n",
    "for col in Demand:\n",
    "    df[col] = pd.to_numeric(df[col], errors='coerce')\n",
    "df.info()"
   ]
  },
  {
   "cell_type": "code",
   "execution_count": 75,
   "id": "2ea32bb5",
   "metadata": {},
   "outputs": [
    {
     "data": {
      "text/plain": [
       "Date Time                       0\n",
       "Year                            0\n",
       "Quarter                         0\n",
       "National Unsuppressed Demand    0\n",
       "National Suppressed Demand      0\n",
       "dtype: int64"
      ]
     },
     "execution_count": 75,
     "metadata": {},
     "output_type": "execute_result"
    }
   ],
   "source": [
    "df.isnull().sum()"
   ]
  },
  {
   "cell_type": "code",
   "execution_count": 76,
   "id": "b1210fdf",
   "metadata": {},
   "outputs": [
    {
     "name": "stderr",
     "output_type": "stream",
     "text": [
      "Matplotlib is building the font cache; this may take a moment.\n"
     ]
    },
    {
     "data": {
      "image/png": "[encoded data removed]",
      "text/plain": [
       "<Figure size 1200x600 with 1 Axes>"
      ]
     },
     "metadata": {},
     "output_type": "display_data"
    }
   ],
   "source": [
    "import matplotlib.pyplot as plt\n",
    "plt.figure(figsize=(12, 6))\n",
    "plt.plot(df[\"Date Time\"], df[\"National Unsuppressed Demand\"], label=\"National Unsuppressed Demand\")\n",
    "plt.plot(df[\"Date Time\"], df[\"National Suppressed Demand\"], label=\"National Suppressed Demand\")\n",
    "plt.title(\"National Energy Demand\")\n",
    "plt.xlabel(\"Date\")\n",
    "plt.ylabel(\"Demand (MW)\")\n",
    "plt.legend()\n",
    "plt.show()"
   ]
  },
  {
   "cell_type": "code",
   "execution_count": 103,
   "id": "0e89bf3c",
   "metadata": {},
   "outputs": [
    {
     "data": {
      "image/png": "[encoded data removed]",
      "text/plain": [
       "<Figure size 640x480 with 1 Axes>"
      ]
     },
     "metadata": {},
     "output_type": "display_data"
    }
   ],
   "source": [
    "plt.plot(hourly_demand.index, hourly_demand.values)\n",
    "plt.title(\"Average Hourly National Suppressed and Unsuppressed Demand\")\n",
    "\n",
    "plt.xlabel(\"Hour of Day\")\n",
    "plt.ylabel(\"Demand (MW)\")\n",
    "plt.xticks(hourly_demand.index)\n",
    "plt.grid()\n",
    "plt.show()"
   ]
  },
  {
   "cell_type": "code",
   "execution_count": 102,
   "id": "835b0f67",
   "metadata": {},
   "outputs": [
    {
     "data": {
      "image/png": "[encoded data removed]",
      "text/plain": [
       "<Figure size 640x480 with 1 Axes>"
      ]
     },
     "metadata": {},
     "output_type": "display_data"
    }
   ],
   "source": [
    "plt.plot(suppressed_hourly_demand.index, suppressed_hourly_demand.values)\n",
    "plt.title(\"Average Hourly National Suppressed Demand\")\n",
    "plt.ylabel(\"Suppressed Demand (MW)\")\n",
    "plt.xlabel(\"Hour of Day\")\n",
    "plt.xticks(suppressed_hourly_demand.index)\n",
    "plt.grid()\n",
    "plt.show()"
   ]
  },
  {
   "cell_type": "code",
   "execution_count": 85,
   "id": "1440240a",
   "metadata": {},
   "outputs": [
    {
     "data": {
      "image/png": "[encoded data removed]",
      "text/plain": [
       "<Figure size 1200x600 with 1 Axes>"
      ]
     },
     "metadata": {},
     "output_type": "display_data"
    }
   ],
   "source": [
    "df['Hour'] = df['Date Time'].dt.hour\n",
    "df[\"Hour\"].head()\n",
    "hourly_demand = df.groupby('Hour')[\"National Unsuppressed Demand\"].mean()\n",
    "suppressed_hourly_demand = df.groupby(\"Hour\")[\"National Suppressed Demand\"].mean()\n",
    "plt.figure(figsize=(12, 6))\n",
    "plt.plot(hourly_demand.index, hourly_demand.values)\n",
    "plt.plot(suppressed_hourly_demand.index, suppressed_hourly_demand.values)\n",
    "plt.title(\"Average Hourly National Suppressed and Unsuppressed Demand\")\n",
    "plt.xlabel(\"Hour of Day\")\n",
    "plt.ylabel(\"Demand (MW)\")\n",
    "plt.xticks(hourly_demand.index)\n",
    "plt.grid()\n",
    "plt.legend([\"Unsuppressed Demand\", \"Suppressed Demand\"])\n",
    "plt.show()"
   ]
  },
  {
   "cell_type": "code",
   "execution_count": 78,
   "id": "ce4fb784",
   "metadata": {},
   "outputs": [
    {
     "name": "stderr",
     "output_type": "stream",
     "text": [
      "warning: in the working copy of 'notebooks/01_data_exploration.ipynb', LF will be replaced by CRLF the next time Git touches it\n"
     ]
    },
    {
     "name": "stdout",
     "output_type": "stream",
     "text": [
      "[main bd6de5f] Data exploration and visualization\n",
      " 1 file changed, 202 insertions(+), 19 deletions(-)\n"
     ]
    },
    {
     "name": "stderr",
     "output_type": "stream",
     "text": [
      "To https://github.com/Khalmade/energy_demand_forecasting.git\n",
      "   4551a44..bd6de5f  main -> main\n"
     ]
    }
   ],
   "source": [
    "!git add .\n",
    "!git commit -m \"Data exploration and visualization\"\n",
    "!git push"
   ]
  },
  {
   "cell_type": "code",
   "execution_count": 84,
   "id": "8f16ea54",
   "metadata": {},
   "outputs": [
    {
     "name": "stdout",
     "output_type": "stream",
     "text": [
      "[ 0  1  2  3  4  5  6  7  8  9 10 11 12 13 14 15 16 17 18 19 20 21 22 23]\n"
     ]
    }
   ],
   "source": [
    "df['Hour'] = df['Date Time'].dt.hour\n",
    "print((df['Hour'].unique()))"
   ]
  },
  {
   "cell_type": "code",
   "execution_count": 137,
   "id": "848a0f1f",
   "metadata": {},
   "outputs": [
    {
     "name": "stdout",
     "output_type": "stream",
     "text": [
      "[4 5 6 0 1 2 3]\n"
     ]
    },
    {
     "data": {
      "text/plain": [
       "Day\n",
       "0    5457.388386\n",
       "1    5501.857023\n",
       "2    5564.771679\n",
       "3    5537.660782\n",
       "4    5519.601033\n",
       "5    5453.019635\n",
       "6    5376.312196\n",
       "Name: National Unsuppressed Demand, dtype: float64"
      ]
     },
     "metadata": {},
     "output_type": "display_data"
    }
   ],
   "source": [
    "df['Day'] = df['Date Time'].dt.dayofweek\n",
    "print(df['Day'].unique())\n",
    "unsuppressed_daily_demand = df.groupby('Day')['National Unsuppressed Demand'].mean()\n",
    "display(unsuppressed_daily_demand)"
   ]
  },
  {
   "cell_type": "code",
   "execution_count": 129,
   "id": "824a3688",
   "metadata": {},
   "outputs": [
    {
     "data": {
      "image/png": "[encoded data removed]",
      "text/plain": [
       "<Figure size 640x480 with 1 Axes>"
      ]
     },
     "metadata": {},
     "output_type": "display_data"
    }
   ],
   "source": [
    "plt.title(\"Average Daily Energy Demand\")\n",
    "plt.xlabel(\"Day of the Week\")\n",
    "plt.ylabel(\"Average Demand (MW)\")\n",
    "plt.plot(unsuppressed_daily_demand.index, unsuppressed_daily_demand.values)\n",
    "plt.xticks(unsuppressed_daily_demand.index, ['Mon', 'Tue', 'Wed', 'Thu', 'Fri', 'Sat', 'Sun'])\n",
    "plt.grid()\n",
    "plt.show()"
   ]
  },
  {
   "cell_type": "code",
   "execution_count": 132,
   "id": "f9fbaab5",
   "metadata": {},
   "outputs": [
    {
     "data": {
      "text/plain": [
       "Month\n",
       "1     5307.188799\n",
       "2     6078.708273\n",
       "3     5913.004050\n",
       "4     4933.130565\n",
       "5     5210.307532\n",
       "6     5508.205398\n",
       "7     5383.317436\n",
       "8     5300.491507\n",
       "9     5279.133670\n",
       "10    5512.659622\n",
       "11    5557.697754\n",
       "12    5880.653552\n",
       "Name: National Unsuppressed Demand, dtype: float64"
      ]
     },
     "metadata": {},
     "output_type": "display_data"
    }
   ],
   "source": [
    "df['Month'] = df[\"Date Time\"].dt.month\n",
    "unsuppressed_monthly_demand = df.groupby('Month')['National Unsuppressed Demand'].mean()\n",
    "display(unsuppressed_monthly_demand)"
   ]
  },
  {
   "cell_type": "code",
   "execution_count": 133,
   "id": "70f45bf7",
   "metadata": {},
   "outputs": [
    {
     "data": {
      "image/png": "[encoded data removed]",
      "text/plain": [
       "<Figure size 640x480 with 1 Axes>"
      ]
     },
     "metadata": {},
     "output_type": "display_data"
    }
   ],
   "source": [
    "plt.title(\"Average Monthly Energy Demand\")\n",
    "plt.xlabel(\"Month\")\n",
    "plt.ylabel(\"Average Demand (MW)\")\n",
    "plt.plot(unsuppressed_monthly_demand.index, unsuppressed_monthly_demand.values)\n",
    "plt.xticks(unsuppressed_monthly_demand.index, ['Jan', 'Feb', 'Mar', 'Apr', 'May', 'Jun', 'Jul', 'Aug', 'Sep', 'Oct', 'Nov', 'Dec'])\n",
    "plt.grid()\n",
    "plt.show()"
   ]
  },
  {
   "cell_type": "code",
   "execution_count": 134,
   "id": "a73a98ad",
   "metadata": {},
   "outputs": [
    {
     "name": "stderr",
     "output_type": "stream",
     "text": [
      "warning: in the working copy of 'notebooks/01_data_exploration.ipynb', LF will be replaced by CRLF the next time Git touches it\n"
     ]
    },
    {
     "name": "stdout",
     "output_type": "stream",
     "text": [
      "[main ba0d974] Updated data exploration notebook with visualizations\n",
      " 1 file changed, 244 insertions(+), 3 deletions(-)\n"
     ]
    }
   ],
   "source": [
    "!git add .\n",
    "!git commit -m \"Updated data exploration notebook with visualizations\"\n"
   ]
  },
  {
   "cell_type": "code",
   "execution_count": 135,
   "id": "525886f5",
   "metadata": {},
   "outputs": [
    {
     "name": "stderr",
     "output_type": "stream",
     "text": [
      "To https://github.com/Khalmade/energy_demand_forecasting.git\n",
      "   bd6de5f..ba0d974  main -> main\n"
     ]
    }
   ],
   "source": [
    "!git push"
   ]
  },
  {
   "cell_type": "code",
   "execution_count": null,
   "id": "edbb860b",
   "metadata": {},
   "outputs": [
    {
     "data": {
      "text/html": [
       "<div>\n",
       "<style scoped>\n",
       "    .dataframe tbody tr th:only-of-type {\n",
       "        vertical-align: middle;\n",
       "    }\n",
       "\n",
       "    .dataframe tbody tr th {\n",
       "        vertical-align: top;\n",
       "    }\n",
       "\n",
       "    .dataframe thead th {\n",
       "        text-align: right;\n",
       "    }\n",
       "</style>\n",
       "<table border=\"1\" class=\"dataframe\">\n",
       "  <thead>\n",
       "    <tr style=\"text-align: right;\">\n",
       "      <th></th>\n",
       "      <th>Date Time</th>\n",
       "      <th>Year</th>\n",
       "      <th>Quarter</th>\n",
       "      <th>National Unsuppressed Demand</th>\n",
       "      <th>National Suppressed Demand</th>\n",
       "      <th>Hour</th>\n",
       "      <th>Day</th>\n",
       "      <th>Month</th>\n",
       "    </tr>\n",
       "  </thead>\n",
       "  <tbody>\n",
       "    <tr>\n",
       "      <th>0</th>\n",
       "      <td>2016-01-01 00:00:00</td>\n",
       "      <td>2016</td>\n",
       "      <td>Q1</td>\n",
       "      <td>4670.268405</td>\n",
       "      <td>2527.804878</td>\n",
       "      <td>0</td>\n",
       "      <td>4</td>\n",
       "      <td>1</td>\n",
       "    </tr>\n",
       "    <tr>\n",
       "      <th>1</th>\n",
       "      <td>2016-01-01 01:00:00</td>\n",
       "      <td>2016</td>\n",
       "      <td>Q1</td>\n",
       "      <td>4665.287441</td>\n",
       "      <td>2789.024390</td>\n",
       "      <td>1</td>\n",
       "      <td>4</td>\n",
       "      <td>1</td>\n",
       "    </tr>\n",
       "    <tr>\n",
       "      <th>2</th>\n",
       "      <td>2016-01-01 02:00:00</td>\n",
       "      <td>2016</td>\n",
       "      <td>Q1</td>\n",
       "      <td>4682.517299</td>\n",
       "      <td>2815.121951</td>\n",
       "      <td>2</td>\n",
       "      <td>4</td>\n",
       "      <td>1</td>\n",
       "    </tr>\n",
       "    <tr>\n",
       "      <th>3</th>\n",
       "      <td>2016-01-01 03:00:00</td>\n",
       "      <td>2016</td>\n",
       "      <td>Q1</td>\n",
       "      <td>4703.791990</td>\n",
       "      <td>2785.121951</td>\n",
       "      <td>3</td>\n",
       "      <td>4</td>\n",
       "      <td>1</td>\n",
       "    </tr>\n",
       "    <tr>\n",
       "      <th>4</th>\n",
       "      <td>2016-01-01 04:00:00</td>\n",
       "      <td>2016</td>\n",
       "      <td>Q1</td>\n",
       "      <td>4857.064195</td>\n",
       "      <td>2794.878049</td>\n",
       "      <td>4</td>\n",
       "      <td>4</td>\n",
       "      <td>1</td>\n",
       "    </tr>\n",
       "  </tbody>\n",
       "</table>\n",
       "</div>"
      ],
      "text/plain": [
       "            Date Time  Year Quarter  National Unsuppressed Demand  \\\n",
       "0 2016-01-01 00:00:00  2016      Q1                   4670.268405   \n",
       "1 2016-01-01 01:00:00  2016      Q1                   4665.287441   \n",
       "2 2016-01-01 02:00:00  2016      Q1                   4682.517299   \n",
       "3 2016-01-01 03:00:00  2016      Q1                   4703.791990   \n",
       "4 2016-01-01 04:00:00  2016      Q1                   4857.064195   \n",
       "\n",
       "   National Suppressed Demand  Hour  Day  Month  \n",
       "0                 2527.804878     0    4      1  \n",
       "1                 2789.024390     1    4      1  \n",
       "2                 2815.121951     2    4      1  \n",
       "3                 2785.121951     3    4      1  \n",
       "4                 2794.878049     4    4      1  "
      ]
     },
     "metadata": {},
     "output_type": "display_data"
    }
   ],
   "source": [
    "## CREATING FEATURES\n",
    "#Cyclical\n",
    "df['Hour'] = df['Date Time'].dt.hour #0-23\n",
    "df['Day'] = df['Date Time'].dt.dayofweek #Mon=0, Sun=6\n",
    "df['Month'] = df['Date Time'].dt.month #Jan=1, Dec=12\n",
    "\n",
    "display(df.head())"
   ]
  },
  {
   "cell_type": "code",
   "execution_count": null,
   "id": "5960045d",
   "metadata": {},
   "outputs": [],
   "source": [
    "#Lag_Features\n",
    "df['Demand_Lag_hour'] = df['National Unsuppressed Demand'].shift(1)\n",
    "df['Demand_Lag_day'] = df['National Unsuppressed Demand'].shift(24)\n",
    "df['Demand_Lag_week'] = df['National Unsuppressed Demand'].shift(168)\n"
   ]
  },
  {
   "cell_type": "code",
   "execution_count": 148,
   "id": "0d8a9f32",
   "metadata": {
    "vscode": {
     "languageId": "ruby"
    }
   },
   "outputs": [
    {
     "data": {
      "text/html": [
       "<div>\n",
       "<style scoped>\n",
       "    .dataframe tbody tr th:only-of-type {\n",
       "        vertical-align: middle;\n",
       "    }\n",
       "\n",
       "    .dataframe tbody tr th {\n",
       "        vertical-align: top;\n",
       "    }\n",
       "\n",
       "    .dataframe thead th {\n",
       "        text-align: right;\n",
       "    }\n",
       "</style>\n",
       "<table border=\"1\" class=\"dataframe\">\n",
       "  <thead>\n",
       "    <tr style=\"text-align: right;\">\n",
       "      <th></th>\n",
       "      <th>Date Time</th>\n",
       "      <th>Year</th>\n",
       "      <th>Quarter</th>\n",
       "      <th>National Unsuppressed Demand</th>\n",
       "      <th>National Suppressed Demand</th>\n",
       "      <th>Hour</th>\n",
       "      <th>Day</th>\n",
       "      <th>Month</th>\n",
       "      <th>Lag_hour</th>\n",
       "      <th>Lag_day</th>\n",
       "      <th>Lag_week</th>\n",
       "      <th>Demand_Rolling_mean_24</th>\n",
       "      <th>Demand_Rolling_std_24</th>\n",
       "      <th>Demand_Rolling_median_24</th>\n",
       "    </tr>\n",
       "  </thead>\n",
       "  <tbody>\n",
       "    <tr>\n",
       "      <th>8779</th>\n",
       "      <td>2016-12-31 18:59:59.998</td>\n",
       "      <td>2016</td>\n",
       "      <td>Q4</td>\n",
       "      <td>6099.345965</td>\n",
       "      <td>3178.630986</td>\n",
       "      <td>18</td>\n",
       "      <td>5</td>\n",
       "      <td>12</td>\n",
       "      <td>6341.704663</td>\n",
       "      <td>6429.454055</td>\n",
       "      <td>6678.166553</td>\n",
       "      <td>5607.679953</td>\n",
       "      <td>519.260095</td>\n",
       "      <td>5762.779933</td>\n",
       "    </tr>\n",
       "    <tr>\n",
       "      <th>8780</th>\n",
       "      <td>2016-12-31 19:59:59.998</td>\n",
       "      <td>2016</td>\n",
       "      <td>Q4</td>\n",
       "      <td>6173.292224</td>\n",
       "      <td>3020.387622</td>\n",
       "      <td>19</td>\n",
       "      <td>5</td>\n",
       "      <td>12</td>\n",
       "      <td>6099.345965</td>\n",
       "      <td>6415.992216</td>\n",
       "      <td>6779.964838</td>\n",
       "      <td>5597.567454</td>\n",
       "      <td>505.001433</td>\n",
       "      <td>5762.779933</td>\n",
       "    </tr>\n",
       "    <tr>\n",
       "      <th>8781</th>\n",
       "      <td>2016-12-31 20:59:59.998</td>\n",
       "      <td>2016</td>\n",
       "      <td>Q4</td>\n",
       "      <td>5859.663577</td>\n",
       "      <td>2930.626564</td>\n",
       "      <td>20</td>\n",
       "      <td>5</td>\n",
       "      <td>12</td>\n",
       "      <td>6173.292224</td>\n",
       "      <td>6190.018433</td>\n",
       "      <td>6454.871597</td>\n",
       "      <td>5583.802668</td>\n",
       "      <td>492.498388</td>\n",
       "      <td>5762.779933</td>\n",
       "    </tr>\n",
       "    <tr>\n",
       "      <th>8782</th>\n",
       "      <td>2016-12-31 21:59:59.998</td>\n",
       "      <td>2016</td>\n",
       "      <td>Q4</td>\n",
       "      <td>5507.905382</td>\n",
       "      <td>2939.975938</td>\n",
       "      <td>21</td>\n",
       "      <td>5</td>\n",
       "      <td>12</td>\n",
       "      <td>5859.663577</td>\n",
       "      <td>5686.804645</td>\n",
       "      <td>6082.624709</td>\n",
       "      <td>5576.348532</td>\n",
       "      <td>492.225412</td>\n",
       "      <td>5762.779933</td>\n",
       "    </tr>\n",
       "    <tr>\n",
       "      <th>8783</th>\n",
       "      <td>2016-12-31 22:59:59.998</td>\n",
       "      <td>2016</td>\n",
       "      <td>Q4</td>\n",
       "      <td>5155.935255</td>\n",
       "      <td>2925.990258</td>\n",
       "      <td>22</td>\n",
       "      <td>5</td>\n",
       "      <td>12</td>\n",
       "      <td>5507.905382</td>\n",
       "      <td>5288.781818</td>\n",
       "      <td>5704.938087</td>\n",
       "      <td>5570.813259</td>\n",
       "      <td>496.329661</td>\n",
       "      <td>5762.779933</td>\n",
       "    </tr>\n",
       "  </tbody>\n",
       "</table>\n",
       "</div>"
      ],
      "text/plain": [
       "                   Date Time  Year Quarter  National Unsuppressed Demand  \\\n",
       "8779 2016-12-31 18:59:59.998  2016      Q4                   6099.345965   \n",
       "8780 2016-12-31 19:59:59.998  2016      Q4                   6173.292224   \n",
       "8781 2016-12-31 20:59:59.998  2016      Q4                   5859.663577   \n",
       "8782 2016-12-31 21:59:59.998  2016      Q4                   5507.905382   \n",
       "8783 2016-12-31 22:59:59.998  2016      Q4                   5155.935255   \n",
       "\n",
       "      National Suppressed Demand  Hour  Day  Month     Lag_hour      Lag_day  \\\n",
       "8779                 3178.630986    18    5     12  6341.704663  6429.454055   \n",
       "8780                 3020.387622    19    5     12  6099.345965  6415.992216   \n",
       "8781                 2930.626564    20    5     12  6173.292224  6190.018433   \n",
       "8782                 2939.975938    21    5     12  5859.663577  5686.804645   \n",
       "8783                 2925.990258    22    5     12  5507.905382  5288.781818   \n",
       "\n",
       "         Lag_week  Demand_Rolling_mean_24  Demand_Rolling_std_24  \\\n",
       "8779  6678.166553             5607.679953             519.260095   \n",
       "8780  6779.964838             5597.567454             505.001433   \n",
       "8781  6454.871597             5583.802668             492.498388   \n",
       "8782  6082.624709             5576.348532             492.225412   \n",
       "8783  5704.938087             5570.813259             496.329661   \n",
       "\n",
       "      Demand_Rolling_median_24  \n",
       "8779               5762.779933  \n",
       "8780               5762.779933  \n",
       "8781               5762.779933  \n",
       "8782               5762.779933  \n",
       "8783               5762.779933  "
      ]
     },
     "metadata": {},
     "output_type": "display_data"
    }
   ],
   "source": [
    "#Rolling Features\n",
    "df['Demand_Rolling_mean_24'] = df['National Unsuppressed Demand'].rolling(window=24).mean()\n",
    "df['Demand_Rolling_std_24'] = df['National Unsuppressed Demand'].rolling(window=24).std()\n",
    "df['Demand_Rolling_median_24'] = df['National Unsuppressed Demand'].rolling(window=24).median()\n",
    "\n",
    "display(df.tail())\n"
   ]
  },
  {
   "cell_type": "code",
   "execution_count": 149,
   "id": "b0e64017",
   "metadata": {
    "vscode": {
     "languageId": "ruby"
    }
   },
   "outputs": [
    {
     "name": "stderr",
     "output_type": "stream",
     "text": [
      "warning: in the working copy of 'notebooks/01_data_exploration.ipynb', LF will be replaced by CRLF the next time Git touches it\n"
     ]
    },
    {
     "name": "stdout",
     "output_type": "stream",
     "text": [
      "[main 23e15b5] Feature engineering: Added lag and rolling features\n",
      " 1 file changed, 379 insertions(+), 1 deletion(-)\n"
     ]
    }
   ],
   "source": [
    "!git add .\n",
    "!git commit -m \"Feature engineering: Added lag and rolling features\""
   ]
  },
  {
   "cell_type": "code",
   "execution_count": 150,
   "id": "60d36d75",
   "metadata": {
    "vscode": {
     "languageId": "ruby"
    }
   },
   "outputs": [
    {
     "name": "stderr",
     "output_type": "stream",
     "text": [
      "To https://github.com/Khalmade/energy_demand_forecasting.git\n",
      "   ba0d974..23e15b5  main -> main\n"
     ]
    }
   ],
   "source": [
    "!git push"
   ]
  },
  {
   "cell_type": "code",
   "execution_count": 151,
   "id": "2f9b9891",
   "metadata": {
    "vscode": {
     "languageId": "ruby"
    }
   },
   "outputs": [
    {
     "data": {
      "text/plain": [
       "Date Time                         0\n",
       "Year                              0\n",
       "Quarter                           0\n",
       "National Unsuppressed Demand      0\n",
       "National Suppressed Demand        0\n",
       "Hour                              0\n",
       "Day                               0\n",
       "Month                             0\n",
       "Lag_hour                          1\n",
       "Lag_day                          24\n",
       "Lag_week                        168\n",
       "Demand_Rolling_mean_24           23\n",
       "Demand_Rolling_std_24            23\n",
       "Demand_Rolling_median_24         23\n",
       "dtype: int64"
      ]
     },
     "execution_count": 151,
     "metadata": {},
     "output_type": "execute_result"
    }
   ],
   "source": [
    "df.isnull().sum()"
   ]
  },
  {
   "cell_type": "code",
   "execution_count": 152,
   "id": "69302b72",
   "metadata": {
    "vscode": {
     "languageId": "ruby"
    }
   },
   "outputs": [
    {
     "data": {
      "text/html": [
       "<div>\n",
       "<style scoped>\n",
       "    .dataframe tbody tr th:only-of-type {\n",
       "        vertical-align: middle;\n",
       "    }\n",
       "\n",
       "    .dataframe tbody tr th {\n",
       "        vertical-align: top;\n",
       "    }\n",
       "\n",
       "    .dataframe thead th {\n",
       "        text-align: right;\n",
       "    }\n",
       "</style>\n",
       "<table border=\"1\" class=\"dataframe\">\n",
       "  <thead>\n",
       "    <tr style=\"text-align: right;\">\n",
       "      <th></th>\n",
       "      <th>Date Time</th>\n",
       "      <th>Year</th>\n",
       "      <th>Quarter</th>\n",
       "      <th>National Unsuppressed Demand</th>\n",
       "      <th>National Suppressed Demand</th>\n",
       "      <th>Hour</th>\n",
       "      <th>Day</th>\n",
       "      <th>Month</th>\n",
       "      <th>Lag_hour</th>\n",
       "      <th>Lag_day</th>\n",
       "      <th>Lag_week</th>\n",
       "      <th>Demand_Rolling_mean_24</th>\n",
       "      <th>Demand_Rolling_std_24</th>\n",
       "      <th>Demand_Rolling_median_24</th>\n",
       "    </tr>\n",
       "  </thead>\n",
       "  <tbody>\n",
       "    <tr>\n",
       "      <th>168</th>\n",
       "      <td>2016-01-08 00:00:00</td>\n",
       "      <td>2016</td>\n",
       "      <td>Q1</td>\n",
       "      <td>4771.960156</td>\n",
       "      <td>2352.926829</td>\n",
       "      <td>0</td>\n",
       "      <td>4</td>\n",
       "      <td>1</td>\n",
       "      <td>5007.392881</td>\n",
       "      <td>5135.131213</td>\n",
       "      <td>4670.268405</td>\n",
       "      <td>5416.903179</td>\n",
       "      <td>357.075830</td>\n",
       "      <td>5436.617063</td>\n",
       "    </tr>\n",
       "    <tr>\n",
       "      <th>169</th>\n",
       "      <td>2016-01-08 01:00:00</td>\n",
       "      <td>2016</td>\n",
       "      <td>Q1</td>\n",
       "      <td>4755.777770</td>\n",
       "      <td>2700.487805</td>\n",
       "      <td>1</td>\n",
       "      <td>4</td>\n",
       "      <td>1</td>\n",
       "      <td>4771.960156</td>\n",
       "      <td>5041.855982</td>\n",
       "      <td>4665.287441</td>\n",
       "      <td>5404.983253</td>\n",
       "      <td>374.490308</td>\n",
       "      <td>5436.617063</td>\n",
       "    </tr>\n",
       "    <tr>\n",
       "      <th>170</th>\n",
       "      <td>2016-01-08 02:00:00</td>\n",
       "      <td>2016</td>\n",
       "      <td>Q1</td>\n",
       "      <td>4741.270826</td>\n",
       "      <td>2644.146341</td>\n",
       "      <td>2</td>\n",
       "      <td>4</td>\n",
       "      <td>1</td>\n",
       "      <td>4755.777770</td>\n",
       "      <td>4995.167024</td>\n",
       "      <td>4682.517299</td>\n",
       "      <td>5394.404245</td>\n",
       "      <td>389.842089</td>\n",
       "      <td>5436.617063</td>\n",
       "    </tr>\n",
       "    <tr>\n",
       "      <th>171</th>\n",
       "      <td>2016-01-08 03:00:00</td>\n",
       "      <td>2016</td>\n",
       "      <td>Q1</td>\n",
       "      <td>4882.835752</td>\n",
       "      <td>2809.268293</td>\n",
       "      <td>3</td>\n",
       "      <td>4</td>\n",
       "      <td>1</td>\n",
       "      <td>4741.270826</td>\n",
       "      <td>5019.186669</td>\n",
       "      <td>4703.791990</td>\n",
       "      <td>5388.722957</td>\n",
       "      <td>396.484941</td>\n",
       "      <td>5436.617063</td>\n",
       "    </tr>\n",
       "    <tr>\n",
       "      <th>172</th>\n",
       "      <td>2016-01-08 04:00:00</td>\n",
       "      <td>2016</td>\n",
       "      <td>Q1</td>\n",
       "      <td>5003.225978</td>\n",
       "      <td>2804.634146</td>\n",
       "      <td>4</td>\n",
       "      <td>4</td>\n",
       "      <td>1</td>\n",
       "      <td>4882.835752</td>\n",
       "      <td>5139.087419</td>\n",
       "      <td>4857.064195</td>\n",
       "      <td>5383.062063</td>\n",
       "      <td>401.146619</td>\n",
       "      <td>5436.617063</td>\n",
       "    </tr>\n",
       "  </tbody>\n",
       "</table>\n",
       "</div>"
      ],
      "text/plain": [
       "              Date Time  Year Quarter  National Unsuppressed Demand  \\\n",
       "168 2016-01-08 00:00:00  2016      Q1                   4771.960156   \n",
       "169 2016-01-08 01:00:00  2016      Q1                   4755.777770   \n",
       "170 2016-01-08 02:00:00  2016      Q1                   4741.270826   \n",
       "171 2016-01-08 03:00:00  2016      Q1                   4882.835752   \n",
       "172 2016-01-08 04:00:00  2016      Q1                   5003.225978   \n",
       "\n",
       "     National Suppressed Demand  Hour  Day  Month     Lag_hour      Lag_day  \\\n",
       "168                 2352.926829     0    4      1  5007.392881  5135.131213   \n",
       "169                 2700.487805     1    4      1  4771.960156  5041.855982   \n",
       "170                 2644.146341     2    4      1  4755.777770  4995.167024   \n",
       "171                 2809.268293     3    4      1  4741.270826  5019.186669   \n",
       "172                 2804.634146     4    4      1  4882.835752  5139.087419   \n",
       "\n",
       "        Lag_week  Demand_Rolling_mean_24  Demand_Rolling_std_24  \\\n",
       "168  4670.268405             5416.903179             357.075830   \n",
       "169  4665.287441             5404.983253             374.490308   \n",
       "170  4682.517299             5394.404245             389.842089   \n",
       "171  4703.791990             5388.722957             396.484941   \n",
       "172  4857.064195             5383.062063             401.146619   \n",
       "\n",
       "     Demand_Rolling_median_24  \n",
       "168               5436.617063  \n",
       "169               5436.617063  \n",
       "170               5436.617063  \n",
       "171               5436.617063  \n",
       "172               5436.617063  "
      ]
     },
     "execution_count": 152,
     "metadata": {},
     "output_type": "execute_result"
    }
   ],
   "source": [
    "df.dropna(inplace=True)\n",
    "\n",
    "df.isnull().sum()\n",
    "df.head()"
   ]
  },
  {
   "cell_type": "code",
   "execution_count": 154,
   "id": "caf4d0a0",
   "metadata": {
    "vscode": {
     "languageId": "ruby"
    }
   },
   "outputs": [
    {
     "name": "stderr",
     "output_type": "stream",
     "text": [
      "warning: in the working copy of 'notebooks/01_data_exploration.ipynb', LF will be replaced by CRLF the next time Git touches it\n"
     ]
    },
    {
     "name": "stdout",
     "output_type": "stream",
     "text": [
      "[main 13c37b1] Handled missing values by dropping rows with NaN\n",
      " 1 file changed, 299 insertions(+), 1 deletion(-)\n"
     ]
    }
   ],
   "source": [
    "!git add .\n",
    "!git commit -m \"Handled missing values by dropping rows with NaN\""
   ]
  },
  {
   "cell_type": "code",
   "execution_count": 155,
   "id": "5d3362b6",
   "metadata": {
    "vscode": {
     "languageId": "ruby"
    }
   },
   "outputs": [
    {
     "name": "stderr",
     "output_type": "stream",
     "text": [
      "To https://github.com/Khalmade/energy_demand_forecasting.git\n",
      "   23e15b5..13c37b1  main -> main\n"
     ]
    }
   ],
   "source": [
    "!git push"
   ]
  },
  {
   "cell_type": "code",
   "execution_count": 156,
   "id": "9f9e1124",
   "metadata": {
    "vscode": {
     "languageId": "ruby"
    }
   },
   "outputs": [
    {
     "data": {
      "text/html": [
       "<div>\n",
       "<style scoped>\n",
       "    .dataframe tbody tr th:only-of-type {\n",
       "        vertical-align: middle;\n",
       "    }\n",
       "\n",
       "    .dataframe tbody tr th {\n",
       "        vertical-align: top;\n",
       "    }\n",
       "\n",
       "    .dataframe thead th {\n",
       "        text-align: right;\n",
       "    }\n",
       "</style>\n",
       "<table border=\"1\" class=\"dataframe\">\n",
       "  <thead>\n",
       "    <tr style=\"text-align: right;\">\n",
       "      <th></th>\n",
       "      <th>Date Time</th>\n",
       "      <th>Year</th>\n",
       "      <th>Quarter</th>\n",
       "      <th>National Unsuppressed Demand</th>\n",
       "      <th>National Suppressed Demand</th>\n",
       "      <th>Hour</th>\n",
       "      <th>Day</th>\n",
       "      <th>Month</th>\n",
       "      <th>Lag_hour</th>\n",
       "      <th>Lag_day</th>\n",
       "      <th>Lag_week</th>\n",
       "      <th>Demand_Rolling_mean_24</th>\n",
       "      <th>Demand_Rolling_std_24</th>\n",
       "      <th>Demand_Rolling_median_24</th>\n",
       "      <th>is_weekend</th>\n",
       "    </tr>\n",
       "  </thead>\n",
       "  <tbody>\n",
       "    <tr>\n",
       "      <th>168</th>\n",
       "      <td>2016-01-08 00:00:00</td>\n",
       "      <td>2016</td>\n",
       "      <td>Q1</td>\n",
       "      <td>4771.960156</td>\n",
       "      <td>2352.926829</td>\n",
       "      <td>0</td>\n",
       "      <td>4</td>\n",
       "      <td>1</td>\n",
       "      <td>5007.392881</td>\n",
       "      <td>5135.131213</td>\n",
       "      <td>4670.268405</td>\n",
       "      <td>5416.903179</td>\n",
       "      <td>357.075830</td>\n",
       "      <td>5436.617063</td>\n",
       "      <td>False</td>\n",
       "    </tr>\n",
       "    <tr>\n",
       "      <th>169</th>\n",
       "      <td>2016-01-08 01:00:00</td>\n",
       "      <td>2016</td>\n",
       "      <td>Q1</td>\n",
       "      <td>4755.777770</td>\n",
       "      <td>2700.487805</td>\n",
       "      <td>1</td>\n",
       "      <td>4</td>\n",
       "      <td>1</td>\n",
       "      <td>4771.960156</td>\n",
       "      <td>5041.855982</td>\n",
       "      <td>4665.287441</td>\n",
       "      <td>5404.983253</td>\n",
       "      <td>374.490308</td>\n",
       "      <td>5436.617063</td>\n",
       "      <td>False</td>\n",
       "    </tr>\n",
       "    <tr>\n",
       "      <th>170</th>\n",
       "      <td>2016-01-08 02:00:00</td>\n",
       "      <td>2016</td>\n",
       "      <td>Q1</td>\n",
       "      <td>4741.270826</td>\n",
       "      <td>2644.146341</td>\n",
       "      <td>2</td>\n",
       "      <td>4</td>\n",
       "      <td>1</td>\n",
       "      <td>4755.777770</td>\n",
       "      <td>4995.167024</td>\n",
       "      <td>4682.517299</td>\n",
       "      <td>5394.404245</td>\n",
       "      <td>389.842089</td>\n",
       "      <td>5436.617063</td>\n",
       "      <td>False</td>\n",
       "    </tr>\n",
       "    <tr>\n",
       "      <th>171</th>\n",
       "      <td>2016-01-08 03:00:00</td>\n",
       "      <td>2016</td>\n",
       "      <td>Q1</td>\n",
       "      <td>4882.835752</td>\n",
       "      <td>2809.268293</td>\n",
       "      <td>3</td>\n",
       "      <td>4</td>\n",
       "      <td>1</td>\n",
       "      <td>4741.270826</td>\n",
       "      <td>5019.186669</td>\n",
       "      <td>4703.791990</td>\n",
       "      <td>5388.722957</td>\n",
       "      <td>396.484941</td>\n",
       "      <td>5436.617063</td>\n",
       "      <td>False</td>\n",
       "    </tr>\n",
       "    <tr>\n",
       "      <th>172</th>\n",
       "      <td>2016-01-08 04:00:00</td>\n",
       "      <td>2016</td>\n",
       "      <td>Q1</td>\n",
       "      <td>5003.225978</td>\n",
       "      <td>2804.634146</td>\n",
       "      <td>4</td>\n",
       "      <td>4</td>\n",
       "      <td>1</td>\n",
       "      <td>4882.835752</td>\n",
       "      <td>5139.087419</td>\n",
       "      <td>4857.064195</td>\n",
       "      <td>5383.062063</td>\n",
       "      <td>401.146619</td>\n",
       "      <td>5436.617063</td>\n",
       "      <td>False</td>\n",
       "    </tr>\n",
       "  </tbody>\n",
       "</table>\n",
       "</div>"
      ],
      "text/plain": [
       "              Date Time  Year Quarter  National Unsuppressed Demand  \\\n",
       "168 2016-01-08 00:00:00  2016      Q1                   4771.960156   \n",
       "169 2016-01-08 01:00:00  2016      Q1                   4755.777770   \n",
       "170 2016-01-08 02:00:00  2016      Q1                   4741.270826   \n",
       "171 2016-01-08 03:00:00  2016      Q1                   4882.835752   \n",
       "172 2016-01-08 04:00:00  2016      Q1                   5003.225978   \n",
       "\n",
       "     National Suppressed Demand  Hour  Day  Month     Lag_hour      Lag_day  \\\n",
       "168                 2352.926829     0    4      1  5007.392881  5135.131213   \n",
       "169                 2700.487805     1    4      1  4771.960156  5041.855982   \n",
       "170                 2644.146341     2    4      1  4755.777770  4995.167024   \n",
       "171                 2809.268293     3    4      1  4741.270826  5019.186669   \n",
       "172                 2804.634146     4    4      1  4882.835752  5139.087419   \n",
       "\n",
       "        Lag_week  Demand_Rolling_mean_24  Demand_Rolling_std_24  \\\n",
       "168  4670.268405             5416.903179             357.075830   \n",
       "169  4665.287441             5404.983253             374.490308   \n",
       "170  4682.517299             5394.404245             389.842089   \n",
       "171  4703.791990             5388.722957             396.484941   \n",
       "172  4857.064195             5383.062063             401.146619   \n",
       "\n",
       "     Demand_Rolling_median_24  is_weekend  \n",
       "168               5436.617063       False  \n",
       "169               5436.617063       False  \n",
       "170               5436.617063       False  \n",
       "171               5436.617063       False  \n",
       "172               5436.617063       False  "
      ]
     },
     "metadata": {},
     "output_type": "display_data"
    },
    {
     "name": "stdout",
     "output_type": "stream",
     "text": [
      "On branch main\n",
      "Your branch is up to date with 'origin/main'.\n",
      "\n",
      "nothing to commit, working tree clean\n"
     ]
    },
    {
     "name": "stderr",
     "output_type": "stream",
     "text": [
      "Everything up-to-date\n"
     ]
    }
   ],
   "source": [
    "def is_weekend(date_time):\n",
    "    return date_time.dayofweek >= 5\n",
    "\n",
    "# Apply the corrected function to the 'Date Time' column to create the 'is_weekend' feature\n",
    "df['is_weekend'] = df['Date Time'].apply(is_weekend)\n",
    "\n",
    "# Display the first few rows to verify the new feature\n",
    "display(df.head())\n",
    "\n",
    "df['is_weekend'] = df['Date Time'].apply(is_weekend)\n",
    "\n",
    "!git add .\n",
    "!git commit -m \"Added is_weekend feature\"\n",
    "\n",
    "!git push\n"
   ]
  },
  {
   "cell_type": "code",
   "execution_count": 157,
   "id": "3aeec556",
   "metadata": {
    "vscode": {
     "languageId": "ruby"
    }
   },
   "outputs": [
    {
     "data": {
      "text/html": [
       "<div>\n",
       "<style scoped>\n",
       "    .dataframe tbody tr th:only-of-type {\n",
       "        vertical-align: middle;\n",
       "    }\n",
       "\n",
       "    .dataframe tbody tr th {\n",
       "        vertical-align: top;\n",
       "    }\n",
       "\n",
       "    .dataframe thead th {\n",
       "        text-align: right;\n",
       "    }\n",
       "</style>\n",
       "<table border=\"1\" class=\"dataframe\">\n",
       "  <thead>\n",
       "    <tr style=\"text-align: right;\">\n",
       "      <th></th>\n",
       "      <th>Hour</th>\n",
       "      <th>Day</th>\n",
       "      <th>Month</th>\n",
       "      <th>Lag_hour</th>\n",
       "      <th>Lag_day</th>\n",
       "      <th>Lag_week</th>\n",
       "      <th>Demand_Rolling_mean_24</th>\n",
       "      <th>Demand_Rolling_std_24</th>\n",
       "      <th>Demand_Rolling_median_24</th>\n",
       "      <th>is_weekend</th>\n",
       "    </tr>\n",
       "  </thead>\n",
       "  <tbody>\n",
       "    <tr>\n",
       "      <th>168</th>\n",
       "      <td>0</td>\n",
       "      <td>4</td>\n",
       "      <td>1</td>\n",
       "      <td>5007.392881</td>\n",
       "      <td>5135.131213</td>\n",
       "      <td>4670.268405</td>\n",
       "      <td>5416.903179</td>\n",
       "      <td>357.075830</td>\n",
       "      <td>5436.617063</td>\n",
       "      <td>False</td>\n",
       "    </tr>\n",
       "    <tr>\n",
       "      <th>169</th>\n",
       "      <td>1</td>\n",
       "      <td>4</td>\n",
       "      <td>1</td>\n",
       "      <td>4771.960156</td>\n",
       "      <td>5041.855982</td>\n",
       "      <td>4665.287441</td>\n",
       "      <td>5404.983253</td>\n",
       "      <td>374.490308</td>\n",
       "      <td>5436.617063</td>\n",
       "      <td>False</td>\n",
       "    </tr>\n",
       "    <tr>\n",
       "      <th>170</th>\n",
       "      <td>2</td>\n",
       "      <td>4</td>\n",
       "      <td>1</td>\n",
       "      <td>4755.777770</td>\n",
       "      <td>4995.167024</td>\n",
       "      <td>4682.517299</td>\n",
       "      <td>5394.404245</td>\n",
       "      <td>389.842089</td>\n",
       "      <td>5436.617063</td>\n",
       "      <td>False</td>\n",
       "    </tr>\n",
       "    <tr>\n",
       "      <th>171</th>\n",
       "      <td>3</td>\n",
       "      <td>4</td>\n",
       "      <td>1</td>\n",
       "      <td>4741.270826</td>\n",
       "      <td>5019.186669</td>\n",
       "      <td>4703.791990</td>\n",
       "      <td>5388.722957</td>\n",
       "      <td>396.484941</td>\n",
       "      <td>5436.617063</td>\n",
       "      <td>False</td>\n",
       "    </tr>\n",
       "    <tr>\n",
       "      <th>172</th>\n",
       "      <td>4</td>\n",
       "      <td>4</td>\n",
       "      <td>1</td>\n",
       "      <td>4882.835752</td>\n",
       "      <td>5139.087419</td>\n",
       "      <td>4857.064195</td>\n",
       "      <td>5383.062063</td>\n",
       "      <td>401.146619</td>\n",
       "      <td>5436.617063</td>\n",
       "      <td>False</td>\n",
       "    </tr>\n",
       "  </tbody>\n",
       "</table>\n",
       "</div>"
      ],
      "text/plain": [
       "     Hour  Day  Month     Lag_hour      Lag_day     Lag_week  \\\n",
       "168     0    4      1  5007.392881  5135.131213  4670.268405   \n",
       "169     1    4      1  4771.960156  5041.855982  4665.287441   \n",
       "170     2    4      1  4755.777770  4995.167024  4682.517299   \n",
       "171     3    4      1  4741.270826  5019.186669  4703.791990   \n",
       "172     4    4      1  4882.835752  5139.087419  4857.064195   \n",
       "\n",
       "     Demand_Rolling_mean_24  Demand_Rolling_std_24  Demand_Rolling_median_24  \\\n",
       "168             5416.903179             357.075830               5436.617063   \n",
       "169             5404.983253             374.490308               5436.617063   \n",
       "170             5394.404245             389.842089               5436.617063   \n",
       "171             5388.722957             396.484941               5436.617063   \n",
       "172             5383.062063             401.146619               5436.617063   \n",
       "\n",
       "     is_weekend  \n",
       "168       False  \n",
       "169       False  \n",
       "170       False  \n",
       "171       False  \n",
       "172       False  "
      ]
     },
     "execution_count": 157,
     "metadata": {},
     "output_type": "execute_result"
    }
   ],
   "source": [
    "selected_features = ['Hour', 'Day', 'Month', 'Lag_hour', 'Lag_day', 'Lag_week', 'Demand_Rolling_mean_24', 'Demand_Rolling_std_24', 'Demand_Rolling_median_24', 'is_weekend']\n",
    "\n",
    "target_feature = 'National Unsuppressed Demand'\n",
    "\n",
    "X = df[selected_features]\n",
    "y = df[target_feature]\n",
    "\n",
    "X.head()"
   ]
  },
  {
   "cell_type": "code",
   "execution_count": 162,
   "id": "83031822",
   "metadata": {
    "vscode": {
     "languageId": "ruby"
    }
   },
   "outputs": [
    {
     "name": "stdout",
     "output_type": "stream",
     "text": [
      "<class 'pandas.core.frame.DataFrame'>\n",
      "Index: 8616 entries, 168 to 8783\n",
      "Data columns (total 15 columns):\n",
      " #   Column                        Non-Null Count  Dtype         \n",
      "---  ------                        --------------  -----         \n",
      " 0   Date Time                     8616 non-null   datetime64[ns]\n",
      " 1   Year                          8616 non-null   int64         \n",
      " 2   Quarter                       8616 non-null   object        \n",
      " 3   National Unsuppressed Demand  8616 non-null   float64       \n",
      " 4   National Suppressed Demand    8616 non-null   float64       \n",
      " 5   Hour                          8616 non-null   int32         \n",
      " 6   Day                           8616 non-null   int32         \n",
      " 7   Month                         8616 non-null   int32         \n",
      " 8   Lag_hour                      8616 non-null   float64       \n",
      " 9   Lag_day                       8616 non-null   float64       \n",
      " 10  Lag_week                      8616 non-null   float64       \n",
      " 11  Demand_Rolling_mean_24        8616 non-null   float64       \n",
      " 12  Demand_Rolling_std_24         8616 non-null   float64       \n",
      " 13  Demand_Rolling_median_24      8616 non-null   float64       \n",
      " 14  is_weekend                    8616 non-null   bool          \n",
      "dtypes: bool(1), datetime64[ns](1), float64(8), int32(3), int64(1), object(1)\n",
      "memory usage: 917.1+ KB\n"
     ]
    }
   ],
   "source": [
    "df.info()"
   ]
  },
  {
   "cell_type": "code",
   "execution_count": 166,
   "id": "8da122e0",
   "metadata": {
    "vscode": {
     "languageId": "ruby"
    }
   },
   "outputs": [
    {
     "data": {
      "text/plain": [
       "((6892, 10), (1724, 10), (6892,), (1724,))"
      ]
     },
     "execution_count": 166,
     "metadata": {},
     "output_type": "execute_result"
    }
   ],
   "source": [
    "#Time aware train/test split\n",
    "train_size = int(len(df) * 0.8)\n",
    "X_train, X_test = X[:train_size], X[train_size:]\n",
    "y_train, y_test = y[:train_size], y[train_size:]\n",
    "\n",
    "X_train.shape, X_test.shape, y_train.shape, y_test.shape"
   ]
  },
  {
   "cell_type": "code",
   "execution_count": null,
   "id": "28adcfa5",
   "metadata": {
    "vscode": {
     "languageId": "ruby"
    }
   },
   "outputs": [],
   "source": []
  }
 ],
 "metadata": {
  "kernelspec": {
   "display_name": "base",
   "language": "python",
   "name": "python3"
  },
  "language_info": {
   "codemirror_mode": {
    "name": "ipython",
    "version": 3
   },
   "file_extension": ".py",
   "mimetype": "text/x-python",
   "name": "python",
   "nbconvert_exporter": "python",
   "pygments_lexer": "ipython3",
   "version": "3.12.7"
  }
 },
 "nbformat": 4,
 "nbformat_minor": 5
}
